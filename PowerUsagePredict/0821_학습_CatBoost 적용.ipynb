{
 "cells": [
  {
   "cell_type": "markdown",
   "id": "7b4b06fa-643a-49cb-bbb2-ee4849cbb31a",
   "metadata": {},
   "source": [
    "생각보다 오버피팅이 잘 일어나는 듯 조심해야함!\n",
    "\n",
    "# Data Set"
   ]
  },
  {
   "cell_type": "code",
   "execution_count": 1,
   "id": "ce7771d3-c5dd-4a09-bb67-39ca7f461186",
   "metadata": {},
   "outputs": [],
   "source": [
    "import warnings\n",
    "warnings.filterwarnings('ignore')\n",
    "\n",
    "import koreanize_matplotlib"
   ]
  },
  {
   "cell_type": "code",
   "execution_count": 2,
   "id": "aed82756-728b-47b8-8038-4ff4f8aaa100",
   "metadata": {},
   "outputs": [],
   "source": [
    "import pandas as pd\n",
    "\n",
    "train = pd.read_csv('Data/train_0820.csv')\n",
    "test = pd.read_csv('Data/test_0820.csv')"
   ]
  },
  {
   "cell_type": "code",
   "execution_count": 52,
   "id": "58126a7a-9a0f-42a9-b8a1-45aa22fcf30b",
   "metadata": {},
   "outputs": [
    {
     "name": "stdout",
     "output_type": "stream",
     "text": [
      "<class 'pandas.core.frame.DataFrame'>\n",
      "RangeIndex: 16800 entries, 0 to 16799\n",
      "Data columns (total 40 columns):\n",
      " #   Column              Non-Null Count  Dtype   \n",
      "---  ------              --------------  -----   \n",
      " 0   num_date_time       16800 non-null  object  \n",
      " 1   건물번호                16800 non-null  category\n",
      " 2   일시                  16800 non-null  object  \n",
      " 3   기온(°C)              16800 non-null  float64 \n",
      " 4   강수량(mm)             16800 non-null  float64 \n",
      " 5   풍속(m/s)             16800 non-null  float64 \n",
      " 6   습도(%)               16800 non-null  float64 \n",
      " 7   건물유형                16800 non-null  object  \n",
      " 8   연면적(m2)             16800 non-null  float64 \n",
      " 9   냉방면적(m2)            16800 non-null  float64 \n",
      " 10  태양광용량(kW)           16800 non-null  float64 \n",
      " 11  ESS저장용량(kWh)        16800 non-null  float64 \n",
      " 12  PCS용량(kW)           16800 non-null  float64 \n",
      " 13  month               16800 non-null  int64   \n",
      " 14  day                 16800 non-null  int64   \n",
      " 15  hour                16800 non-null  int64   \n",
      " 16  weekday             16800 non-null  category\n",
      " 17  is_weekend          16800 non-null  int64   \n",
      " 18  holiday             16800 non-null  int64   \n",
      " 19  cdh_base_used       16800 non-null  float64 \n",
      " 20  DI                  16800 non-null  float64 \n",
      " 21  THI                 16800 non-null  float64 \n",
      " 22  CDH                 16800 non-null  float64 \n",
      " 23  cool_area_ratio     16800 non-null  float64 \n",
      " 24  kWh_per_m2          0 non-null      float64 \n",
      " 25  ess_hours           2016 non-null   float64 \n",
      " 26  is_peak_hour        16800 non-null  int64   \n",
      " 27  hour_sin            16800 non-null  float64 \n",
      " 28  hour_cos            16800 non-null  float64 \n",
      " 29  month_sin           16800 non-null  float64 \n",
      " 30  month_cos           16800 non-null  float64 \n",
      " 31  is_rain             16800 non-null  int64   \n",
      " 32  T_x_RH              16800 non-null  float64 \n",
      " 33  T2                  16800 non-null  float64 \n",
      " 34  RH2                 16800 non-null  float64 \n",
      " 35  T_x_rain            16800 non-null  float64 \n",
      " 36  wind_level          16800 non-null  int64   \n",
      " 37  cooling_load_index  16800 non-null  float64 \n",
      " 38  time_usage_level    16800 non-null  int64   \n",
      " 39  day_usage_level     16800 non-null  int64   \n",
      "dtypes: category(2), float64(25), int64(10), object(3)\n",
      "memory usage: 4.9+ MB\n"
     ]
    }
   ],
   "source": [
    "train['건물번호'] = train['건물번호'].astype('category')\n",
    "test['건물번호'] = test['건물번호'].astype('category')\n",
    "\n",
    "train['weekday'] = train['weekday'].astype('category')\n",
    "test['weekday'] = test['weekday'].astype('category')\n",
    "\n",
    "# btype_ 으로 시작하는 모든 컬럼 제거\n",
    "train = train.drop(columns=[c for c in train.columns if c.startswith(\"btype_\")], errors=\"ignore\")\n",
    "test  = test.drop(columns=[c for c in test.columns if c.startswith(\"btype_\")], errors=\"ignore\")\n",
    "\n",
    "test.info()"
   ]
  },
  {
   "cell_type": "code",
   "execution_count": 5,
   "id": "fa57a8c3-f483-410a-81bd-431870f33841",
   "metadata": {},
   "outputs": [],
   "source": [
    "import random\n",
    "import numpy as np\n",
    "import os"
   ]
  },
  {
   "cell_type": "code",
   "execution_count": 53,
   "id": "43ee47c2-5bb0-47f5-ad91-559436064b22",
   "metadata": {},
   "outputs": [],
   "source": [
    "def seed_everything(seed):\n",
    "    random.seed(seed)\n",
    "    os.environ['PYTHONHASHSEED'] = str(seed)\n",
    "    np.random.seed(seed)\n",
    "\n",
    "seed_everything(42) # Seed 고정"
   ]
  },
  {
   "cell_type": "code",
   "execution_count": 54,
   "id": "28efafdc-5fa2-4c91-b3d0-2b37bf8d7393",
   "metadata": {},
   "outputs": [],
   "source": [
    "train['건물유형'] = train['건물유형'].astype('category')\n",
    "train_x = train.drop(['num_date_time', '일시', '일사(MJ/m2)', '일조(hr)', '전력소비량(kWh)'],axis = 1).iloc[:,:-10]\n",
    "train_y = train['전력소비량(kWh)']"
   ]
  },
  {
   "cell_type": "code",
   "execution_count": 55,
   "id": "0e253097-fd03-42f8-a6b1-07b43192ed38",
   "metadata": {},
   "outputs": [],
   "source": [
    "from sklearn.model_selection import train_test_split\n",
    "\n",
    "X_train, X_val, y_train, y_val = train_test_split(train_x, train_y, test_size=0.2, random_state=42)"
   ]
  },
  {
   "cell_type": "code",
   "execution_count": 56,
   "id": "29f77fe2-9bca-4f0b-9ca4-cb07961fd882",
   "metadata": {},
   "outputs": [
    {
     "data": {
      "text/plain": [
       "((163200, 28), (40800, 28), (163200,), (40800,))"
      ]
     },
     "execution_count": 56,
     "metadata": {},
     "output_type": "execute_result"
    }
   ],
   "source": [
    "X_train.shape, X_val.shape, y_train.shape, y_val.shape"
   ]
  },
  {
   "cell_type": "code",
   "execution_count": 57,
   "id": "9ddef1fc-eeef-4d77-8b87-2c959b9fb917",
   "metadata": {},
   "outputs": [],
   "source": [
    "import numpy as np\n",
    "\n",
    "def smape(y_true, y_pred):\n",
    "    \"\"\"\n",
    "    SMAPE (Symmetric Mean Absolute Percentage Error)\n",
    "    y_true: 실제값 (array-like)\n",
    "    y_pred: 예측값 (array-like)\n",
    "    반환값: SMAPE (단위: %)\n",
    "    \"\"\"\n",
    "    y_true = np.array(y_true)\n",
    "    y_pred = np.array(y_pred)\n",
    "    denominator = (np.abs(y_true) + np.abs(y_pred))\n",
    "    diff = np.abs(y_pred - y_true)\n",
    "    # 0으로 나누는 경우는 diff=0 이므로 0으로 처리됨\n",
    "    smape_val = 100 * np.mean(2 * diff / np.where(denominator == 0, 1, denominator))\n",
    "    return smape_val\n"
   ]
  },
  {
   "cell_type": "markdown",
   "id": "439cc24f-f4ce-457e-b42e-28bf83021127",
   "metadata": {},
   "source": [
    "## CatBoost 적용"
   ]
  },
  {
   "cell_type": "code",
   "execution_count": 58,
   "id": "af039f0d-2a49-4da6-a2bb-5c651137171e",
   "metadata": {},
   "outputs": [],
   "source": [
    "import numpy as np\n",
    "import pandas as pd\n",
    "from sklearn.model_selection import train_test_split\n",
    "from catboost import CatBoostRegressor, Pool\n",
    "\n",
    "# --- 데이터 준비 (이미 train, test, sample_submission이 있다면 생략) ---\n",
    "# train = pd.read_csv(\"/mnt/data/train_0820.csv\")\n",
    "# test  = pd.read_csv(\"/mnt/data/test_0820.csv\")\n",
    "# sub   = pd.read_csv(\"/mnt/data/sample_submission.csv\")\n",
    "\n",
    "TARGET = \"전력소비량(kWh)\"\n",
    "\n",
    "def smape(y_true, y_pred):\n",
    "    denom = (np.abs(y_true) + np.abs(y_pred))\n",
    "    denom = np.where(denom == 0, 1, denom)\n",
    "    return np.mean(2.0 * np.abs(y_pred - y_true) / denom) * 100\n",
    "\n",
    "building_types = train['건물유형'].unique()\n",
    "val_scores = {}\n",
    "models = {}\n",
    "preds_list = []\n"
   ]
  },
  {
   "cell_type": "code",
   "execution_count": 59,
   "id": "889443e3-d04f-4493-8b46-a99594b10961",
   "metadata": {},
   "outputs": [],
   "source": [
    "# train/test에서 동일하게 제거할 컬럼(문자열 시간, 타깃, 학습에 불필요한 것)\n",
    "BASE_DROP = ['num_date_time', '일시', '건물유형', '일사(MJ/m2)', '일조(hr)']\n",
    "\n",
    "for btype in building_types:\n",
    "    # 1) 해당 건물유형 subset\n",
    "    train_sub = train[train['건물유형'] == btype].copy()\n",
    "    test_sub  = test[test['건물유형'] == btype].copy()\n",
    "\n",
    "    # 2) feature/target 분리\n",
    "    drop_cols = BASE_DROP + [TARGET]\n",
    "    X = train_sub.drop(columns=drop_cols, errors=\"ignore\")\n",
    "    y = train_sub[TARGET].astype(float)\n",
    "\n",
    "    # 3) train/val split\n",
    "    X_train, X_val, y_train, y_val = train_test_split(\n",
    "        X, y, test_size=0.2, random_state=42\n",
    "    )\n",
    "\n",
    "    # 4) 모델 정의 \n",
    "    params = dict(\n",
    "        loss_function=\"RMSE\",   # ← 대문자 권장 (\"MAE\"도 OK)\n",
    "        eval_metric=\"SMAPE\",\n",
    "        learning_rate=0.05,\n",
    "        depth=8,\n",
    "        l2_leaf_reg=3.0,\n",
    "        random_seed=42,\n",
    "        iterations=2500,\n",
    "        od_type=\"Iter\",\n",
    "        od_wait=200,\n",
    "        verbose=False,\n",
    "        allow_writing_files=False\n",
    "    )\n",
    "    model = CatBoostRegressor(**params)\n",
    "    \n",
    "    # 5) 학습\n",
    "    cat_cols = [c for c in X_train.columns if str(X_train[c].dtype) in [\"object\", \"category\"]]\n",
    "    train_pool = Pool(X_train, y_train, cat_features=cat_cols)\n",
    "    val_pool   = Pool(X_val,   y_val,   cat_features=cat_cols)\n",
    "    \n",
    "    model.fit(train_pool, eval_set=val_pool, use_best_model=True)\n",
    "    \n",
    "    # 6) Validation 성능\n",
    "    y_val_pred = model.predict(val_pool)\n",
    "    val_scores[btype] = smape(y_val.values, y_val_pred)\n",
    "    \n",
    "    # 8) test 예측\n",
    "    X_test = test_sub.drop(columns=BASE_DROP, errors=\"ignore\").reindex(columns=X.columns, fill_value=np.nan)\n",
    "    test_pool = Pool(X_test, cat_features=cat_cols)\n",
    "    test_sub = test_sub.copy()\n",
    "    test_sub['pred'] = model.predict(test_pool)\n",
    "    \n",
    "    preds_list.append(test_sub[['num_date_time', '건물번호', 'pred']])\n"
   ]
  },
  {
   "cell_type": "code",
   "execution_count": 60,
   "id": "2a709932-0f82-48cb-a3f0-7048c25afef7",
   "metadata": {},
   "outputs": [
    {
     "name": "stdout",
     "output_type": "stream",
     "text": [
      "Validation SMAPE by type: {'호텔': np.float64(6.1053), '상용': np.float64(2.4935), '병원': np.float64(3.0041), '학교': np.float64(3.0769), '건물기타': np.float64(5.5101), '아파트': np.float64(9.2572), '연구소': np.float64(4.9858), '백화점': np.float64(6.0462), 'IDC(전화국)': np.float64(1.1063), '공공': np.float64(5.3121)}\n",
      "평균 SMAPE: 4.6897\n"
     ]
    }
   ],
   "source": [
    "# 전체 예측 결과 합치기\n",
    "final_preds = pd.concat(preds_list, axis=0).sort_values(['num_date_time', '건물번호'])\n",
    "\n",
    "print(\"Validation SMAPE by type:\", {k: round(v, 4) for k, v in val_scores.items()})\n",
    "print(\"평균 SMAPE:\", round(np.mean(list(val_scores.values())), 4))"
   ]
  },
  {
   "cell_type": "code",
   "execution_count": 25,
   "id": "1fe33df0-9d0c-4549-a449-6ae4ad5c9265",
   "metadata": {},
   "outputs": [
    {
     "data": {
      "text/html": [
       "<div>\n",
       "<style scoped>\n",
       "    .dataframe tbody tr th:only-of-type {\n",
       "        vertical-align: middle;\n",
       "    }\n",
       "\n",
       "    .dataframe tbody tr th {\n",
       "        vertical-align: top;\n",
       "    }\n",
       "\n",
       "    .dataframe thead th {\n",
       "        text-align: right;\n",
       "    }\n",
       "</style>\n",
       "<table border=\"1\" class=\"dataframe\">\n",
       "  <thead>\n",
       "    <tr style=\"text-align: right;\">\n",
       "      <th></th>\n",
       "      <th>num_date_time</th>\n",
       "      <th>answer</th>\n",
       "    </tr>\n",
       "  </thead>\n",
       "  <tbody>\n",
       "    <tr>\n",
       "      <th>0</th>\n",
       "      <td>1_20240825 00</td>\n",
       "      <td>4395.967644</td>\n",
       "    </tr>\n",
       "    <tr>\n",
       "      <th>1</th>\n",
       "      <td>1_20240825 01</td>\n",
       "      <td>4344.255931</td>\n",
       "    </tr>\n",
       "    <tr>\n",
       "      <th>2</th>\n",
       "      <td>1_20240825 02</td>\n",
       "      <td>3695.123593</td>\n",
       "    </tr>\n",
       "    <tr>\n",
       "      <th>3</th>\n",
       "      <td>1_20240825 03</td>\n",
       "      <td>3105.130003</td>\n",
       "    </tr>\n",
       "    <tr>\n",
       "      <th>4</th>\n",
       "      <td>1_20240825 04</td>\n",
       "      <td>2843.383108</td>\n",
       "    </tr>\n",
       "    <tr>\n",
       "      <th>...</th>\n",
       "      <td>...</td>\n",
       "      <td>...</td>\n",
       "    </tr>\n",
       "    <tr>\n",
       "      <th>16795</th>\n",
       "      <td>100_20240831 19</td>\n",
       "      <td>2774.644984</td>\n",
       "    </tr>\n",
       "    <tr>\n",
       "      <th>16796</th>\n",
       "      <td>100_20240831 20</td>\n",
       "      <td>2779.902769</td>\n",
       "    </tr>\n",
       "    <tr>\n",
       "      <th>16797</th>\n",
       "      <td>100_20240831 21</td>\n",
       "      <td>2722.759968</td>\n",
       "    </tr>\n",
       "    <tr>\n",
       "      <th>16798</th>\n",
       "      <td>100_20240831 22</td>\n",
       "      <td>3137.212195</td>\n",
       "    </tr>\n",
       "    <tr>\n",
       "      <th>16799</th>\n",
       "      <td>100_20240831 23</td>\n",
       "      <td>3244.614312</td>\n",
       "    </tr>\n",
       "  </tbody>\n",
       "</table>\n",
       "<p>16800 rows × 2 columns</p>\n",
       "</div>"
      ],
      "text/plain": [
       "         num_date_time       answer\n",
       "0        1_20240825 00  4395.967644\n",
       "1        1_20240825 01  4344.255931\n",
       "2        1_20240825 02  3695.123593\n",
       "3        1_20240825 03  3105.130003\n",
       "4        1_20240825 04  2843.383108\n",
       "...                ...          ...\n",
       "16795  100_20240831 19  2774.644984\n",
       "16796  100_20240831 20  2779.902769\n",
       "16797  100_20240831 21  2722.759968\n",
       "16798  100_20240831 22  3137.212195\n",
       "16799  100_20240831 23  3244.614312\n",
       "\n",
       "[16800 rows x 2 columns]"
      ]
     },
     "execution_count": 25,
     "metadata": {},
     "output_type": "execute_result"
    }
   ],
   "source": [
    "# 저장\n",
    "submit =  pd.read_csv('Data/sample_submission.csv')\n",
    "submit_final = (\n",
    "    submit\n",
    "    .merge(final_preds, on=['num_date_time'], how='left')\n",
    "    .drop(columns=['answer','건물번호'], axis = 1)                          # 기존 answer 버리고\n",
    "    .rename(columns={'pred': 'answer'})                # pred → answer 로 변경\n",
    ")\n",
    "submit_final.to_csv(f'Submit/submit_0821catboost{np.mean(list(val_scores.values()))}.csv',index = False)\n",
    "submit_final"
   ]
  },
  {
   "cell_type": "code",
   "execution_count": null,
   "id": "fa4aa9fc-2474-4575-9d5c-b4ce1c40bde2",
   "metadata": {},
   "outputs": [],
   "source": []
  },
  {
   "cell_type": "markdown",
   "id": "0218a18b-952c-4729-ae6c-df93184031cb",
   "metadata": {},
   "source": [
    "### 현재 베스트 모델 기준으로 피쳐임포턴스 확인 - 제외하니 더 안좋아짐"
   ]
  },
  {
   "cell_type": "code",
   "execution_count": null,
   "id": "fe768ef2-285b-4570-aa2b-ff90bfaff5f3",
   "metadata": {},
   "outputs": [],
   "source": []
  }
 ],
 "metadata": {
  "kernelspec": {
   "display_name": "Python 3 (ipykernel)",
   "language": "python",
   "name": "python3"
  },
  "language_info": {
   "codemirror_mode": {
    "name": "ipython",
    "version": 3
   },
   "file_extension": ".py",
   "mimetype": "text/x-python",
   "name": "python",
   "nbconvert_exporter": "python",
   "pygments_lexer": "ipython3",
   "version": "3.13.5"
  }
 },
 "nbformat": 4,
 "nbformat_minor": 5
}
