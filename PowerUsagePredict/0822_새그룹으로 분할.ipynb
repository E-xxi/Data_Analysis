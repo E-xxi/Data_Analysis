{
 "cells": [
  {
   "cell_type": "code",
   "execution_count": 1,
   "id": "e6f81c9b-c48d-4682-ae49-c283147c9bfa",
   "metadata": {},
   "outputs": [],
   "source": [
    "import pandas as pd\n",
    "\n",
    "TRAIN_PATH = \"Data/train_0822_changed.csv\"\n",
    "TEST_PATH  = \"Data/test_0822_changed.csv\"\n",
    "SUB_PATH   = \"Data/sample_submission.csv\"\n",
    "\n",
    "train = pd.read_csv(TRAIN_PATH)\n",
    "test  = pd.read_csv(TEST_PATH)\n",
    "sub   = pd.read_csv(SUB_PATH)"
   ]
  },
  {
   "cell_type": "code",
   "execution_count": 7,
   "id": "14ba7a38-abe2-4fea-8982-7f4c97bf6c57",
   "metadata": {},
   "outputs": [
    {
     "data": {
      "text/html": [
       "<div>\n",
       "<style scoped>\n",
       "    .dataframe tbody tr th:only-of-type {\n",
       "        vertical-align: middle;\n",
       "    }\n",
       "\n",
       "    .dataframe tbody tr th {\n",
       "        vertical-align: top;\n",
       "    }\n",
       "\n",
       "    .dataframe thead th {\n",
       "        text-align: right;\n",
       "    }\n",
       "</style>\n",
       "<table border=\"1\" class=\"dataframe\">\n",
       "  <thead>\n",
       "    <tr style=\"text-align: right;\">\n",
       "      <th></th>\n",
       "      <th>건물유형</th>\n",
       "      <th>cluster_id</th>\n",
       "    </tr>\n",
       "  </thead>\n",
       "  <tbody>\n",
       "    <tr>\n",
       "      <th>0</th>\n",
       "      <td>호텔</td>\n",
       "      <td>2</td>\n",
       "    </tr>\n",
       "    <tr>\n",
       "      <th>1</th>\n",
       "      <td>호텔</td>\n",
       "      <td>2</td>\n",
       "    </tr>\n",
       "    <tr>\n",
       "      <th>2</th>\n",
       "      <td>호텔</td>\n",
       "      <td>2</td>\n",
       "    </tr>\n",
       "    <tr>\n",
       "      <th>3</th>\n",
       "      <td>호텔</td>\n",
       "      <td>2</td>\n",
       "    </tr>\n",
       "    <tr>\n",
       "      <th>4</th>\n",
       "      <td>호텔</td>\n",
       "      <td>2</td>\n",
       "    </tr>\n",
       "    <tr>\n",
       "      <th>...</th>\n",
       "      <td>...</td>\n",
       "      <td>...</td>\n",
       "    </tr>\n",
       "    <tr>\n",
       "      <th>203995</th>\n",
       "      <td>호텔</td>\n",
       "      <td>0</td>\n",
       "    </tr>\n",
       "    <tr>\n",
       "      <th>203996</th>\n",
       "      <td>호텔</td>\n",
       "      <td>0</td>\n",
       "    </tr>\n",
       "    <tr>\n",
       "      <th>203997</th>\n",
       "      <td>호텔</td>\n",
       "      <td>0</td>\n",
       "    </tr>\n",
       "    <tr>\n",
       "      <th>203998</th>\n",
       "      <td>호텔</td>\n",
       "      <td>0</td>\n",
       "    </tr>\n",
       "    <tr>\n",
       "      <th>203999</th>\n",
       "      <td>호텔</td>\n",
       "      <td>0</td>\n",
       "    </tr>\n",
       "  </tbody>\n",
       "</table>\n",
       "<p>204000 rows × 2 columns</p>\n",
       "</div>"
      ],
      "text/plain": [
       "       건물유형  cluster_id\n",
       "0        호텔           2\n",
       "1        호텔           2\n",
       "2        호텔           2\n",
       "3        호텔           2\n",
       "4        호텔           2\n",
       "...     ...         ...\n",
       "203995   호텔           0\n",
       "203996   호텔           0\n",
       "203997   호텔           0\n",
       "203998   호텔           0\n",
       "203999   호텔           0\n",
       "\n",
       "[204000 rows x 2 columns]"
      ]
     },
     "execution_count": 7,
     "metadata": {},
     "output_type": "execute_result"
    }
   ],
   "source": [
    "train[['건물유형','cluster_id']]"
   ]
  },
  {
   "cell_type": "code",
   "execution_count": 8,
   "id": "8864770a-f5a0-41e0-99b6-fceaff8267c1",
   "metadata": {},
   "outputs": [
    {
     "data": {
      "text/plain": [
       "건물유형      cluster_id\n",
       "IDC(전화국)  0              2040\n",
       "          1              8160\n",
       "          2              2040\n",
       "          3              2040\n",
       "          6              4080\n",
       "건물기타      0              6120\n",
       "          4              2040\n",
       "          8              2040\n",
       "          10             6120\n",
       "          11             4080\n",
       "공공        0             12240\n",
       "          10             4080\n",
       "백화점       0              4080\n",
       "          5              4080\n",
       "          7              2040\n",
       "          10            12240\n",
       "          11            10200\n",
       "병원        0              6120\n",
       "          4              4080\n",
       "          9              2040\n",
       "          11             6120\n",
       "상용        0              4080\n",
       "          2              2040\n",
       "          4              4080\n",
       "          10             6120\n",
       "          11             4080\n",
       "아파트       0              8160\n",
       "          10             8160\n",
       "          11             2040\n",
       "연구소       0              8160\n",
       "          10             2040\n",
       "          11             8160\n",
       "학교        0              6120\n",
       "          2              2040\n",
       "          4              6120\n",
       "          8              2040\n",
       "          10             4080\n",
       "호텔        0              8160\n",
       "          2              2040\n",
       "          8              4080\n",
       "          10             4080\n",
       "          11             2040\n",
       "Name: 일시, dtype: int64"
      ]
     },
     "execution_count": 8,
     "metadata": {},
     "output_type": "execute_result"
    }
   ],
   "source": [
    "train.groupby(['건물유형','cluster_id'])['일시'].count()"
   ]
  },
  {
   "cell_type": "code",
   "execution_count": 30,
   "id": "5df1ceca-c013-426a-a1ed-802ed68b2119",
   "metadata": {},
   "outputs": [
    {
     "name": "stdout",
     "output_type": "stream",
     "text": [
      "train_group4\n",
      "호텔          20400\n",
      "상용          20400\n",
      "학교          20400\n",
      "건물기타        20400\n",
      "병원          18360\n",
      "아파트         18360\n",
      "연구소         18360\n",
      "IDC(전화국)    18360\n",
      "공공          16320\n",
      "백화점10       12240\n",
      "백화점         10200\n",
      "백화점11       10200\n",
      "Name: count, dtype: int64\n"
     ]
    }
   ],
   "source": [
    "GROUP_COL = \"train_group4\"\n",
    "\n",
    "def build_group5(df: pd.DataFrame) -> pd.Series:\n",
    "    if \"건물유형\" not in df.columns or \"cluster_id\" not in df.columns:\n",
    "        raise ValueError(\"건물유형/cluster_id 컬럼이 필요합니다.\")\n",
    "    \n",
    "    grp = []\n",
    "    for typ, cid in zip(df[\"건물유형\"], df[\"cluster_id\"]):\n",
    "        if (cid == 10) & (typ == '백화점'):\n",
    "            grp.append(\"백화점10\")\n",
    "        elif (cid == 11) & (typ == '백화점'):\n",
    "            grp.append(\"백화점11\")\n",
    "        else:\n",
    "            grp.append(str(typ))  # 건물유형 그대로\n",
    "    return pd.Series(grp, index=df.index, dtype=\"object\")\n",
    "\n",
    "train[GROUP_COL] = build_group5(train)\n",
    "test [GROUP_COL] = build_group5(test)\n",
    "\n",
    "print(train[GROUP_COL].value_counts())\n"
   ]
  },
  {
   "cell_type": "code",
   "execution_count": 31,
   "id": "5a5ba803-9cbc-454b-ac0c-1e03908714c3",
   "metadata": {},
   "outputs": [],
   "source": [
    "train.to_csv('Data/train_0822_changed.csv',index = False)\n",
    "test.to_csv('Data/test_0822_changed.csv',index = False)"
   ]
  },
  {
   "cell_type": "code",
   "execution_count": null,
   "id": "5cedc0c6-d2cf-4b02-a08f-3c01e77e2c45",
   "metadata": {},
   "outputs": [],
   "source": []
  }
 ],
 "metadata": {
  "kernelspec": {
   "display_name": "Python 3 (ipykernel)",
   "language": "python",
   "name": "python3"
  },
  "language_info": {
   "codemirror_mode": {
    "name": "ipython",
    "version": 3
   },
   "file_extension": ".py",
   "mimetype": "text/x-python",
   "name": "python",
   "nbconvert_exporter": "python",
   "pygments_lexer": "ipython3",
   "version": "3.13.5"
  }
 },
 "nbformat": 4,
 "nbformat_minor": 5
}
