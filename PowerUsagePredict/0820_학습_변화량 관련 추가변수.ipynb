{
 "cells": [
  {
   "cell_type": "code",
   "execution_count": 1,
   "id": "0898dcbe-0fbb-4df6-a010-2889d14a4956",
   "metadata": {},
   "outputs": [],
   "source": [
    "import warnings\n",
    "warnings.filterwarnings('ignore')\n",
    "\n",
    "import koreanize_matplotlib"
   ]
  },
  {
   "cell_type": "code",
   "execution_count": 19,
   "id": "aae2fc15-32f2-4973-a842-be3b79514b14",
   "metadata": {},
   "outputs": [],
   "source": [
    "import pandas as pd\n",
    "\n",
    "#피쳐임포턴스 반영\n",
    "#drop_cols = ['T2', 'T_x_rain', 'RH2', '습도(%)', '풍속(m/s)', 'is_rain', 'wind_level', '강수량(mm)']\n",
    "#additional_drop_cols = ['기온(°C)', '강수량_전일', 'ΔT', 'ess_hours']\n",
    "#[\"일조(hr)\", \"일사(MJ/m2)\"]\n",
    "\n",
    "train = pd.read_csv('Data/train_0820with변화량변수.csv')\n",
    "test = pd.read_csv('Data/test_0820with변화량변수.csv')\n",
    "submit =  pd.read_csv('Data/sample_submission.csv')"
   ]
  },
  {
   "cell_type": "code",
   "execution_count": 20,
   "id": "74fd95fe-8dca-4db1-8f9c-a88872d735bf",
   "metadata": {},
   "outputs": [
    {
     "data": {
      "text/plain": [
       "Index(['num_date_time', '건물번호', '일시', '전력소비량(kWh)', '건물유형', '연면적(m2)',\n",
       "       '냉방면적(m2)', '태양광용량(kW)', 'ESS저장용량(kWh)', 'PCS용량(kW)', 'month', 'day',\n",
       "       'hour', 'weekday', 'is_weekend', 'holiday', 'cdh_base_used', 'DI',\n",
       "       'THI', 'CDH', 'cool_area_ratio', 'kWh_per_m2', 'is_peak_hour',\n",
       "       'hour_sin', 'hour_cos', 'month_sin', 'month_cos', 'T_x_RH',\n",
       "       'cooling_load_index', 'time_usage_level', 'day_usage_level', '기온_MA3'],\n",
       "      dtype='object')"
      ]
     },
     "execution_count": 20,
     "metadata": {},
     "output_type": "execute_result"
    }
   ],
   "source": [
    "train.columns"
   ]
  },
  {
   "cell_type": "code",
   "execution_count": 21,
   "id": "a4124423-8545-4ae3-b3b1-68e8c710b026",
   "metadata": {},
   "outputs": [],
   "source": [
    "import random\n",
    "import numpy as np\n",
    "import os\n",
    "from xgboost import XGBRegressor\n",
    "def seed_everything(seed):\n",
    "    random.seed(seed)\n",
    "    os.environ['PYTHONHASHSEED'] = str(seed)\n",
    "    np.random.seed(seed)\n",
    "\n",
    "seed_everything(42) # Seed 고정"
   ]
  },
  {
   "cell_type": "code",
   "execution_count": 22,
   "id": "28efafdc-5fa2-4c91-b3d0-2b37bf8d7393",
   "metadata": {},
   "outputs": [],
   "source": [
    "train_x = train.drop(['num_date_time', '일시', '전력소비량(kWh)'],axis = 1).iloc[:,:-10]\n",
    "train_y = train['전력소비량(kWh)']"
   ]
  },
  {
   "cell_type": "code",
   "execution_count": 23,
   "id": "0e253097-fd03-42f8-a6b1-07b43192ed38",
   "metadata": {},
   "outputs": [],
   "source": [
    "from sklearn.model_selection import train_test_split\n",
    "\n",
    "X_train, X_val, y_train, y_val = train_test_split(train_x, train_y, test_size=0.2, random_state=42)"
   ]
  },
  {
   "cell_type": "code",
   "execution_count": 24,
   "id": "29f77fe2-9bca-4f0b-9ca4-cb07961fd882",
   "metadata": {},
   "outputs": [
    {
     "data": {
      "text/plain": [
       "((163200, 19), (40800, 19), (163200,), (40800,))"
      ]
     },
     "execution_count": 24,
     "metadata": {},
     "output_type": "execute_result"
    }
   ],
   "source": [
    "X_train.shape, X_val.shape, y_train.shape, y_val.shape"
   ]
  },
  {
   "cell_type": "code",
   "execution_count": 25,
   "id": "9ddef1fc-eeef-4d77-8b87-2c959b9fb917",
   "metadata": {},
   "outputs": [],
   "source": [
    "import numpy as np\n",
    "\n",
    "def smape(y_true, y_pred):\n",
    "    \"\"\"\n",
    "    SMAPE (Symmetric Mean Absolute Percentage Error)\n",
    "    y_true: 실제값 (array-like)\n",
    "    y_pred: 예측값 (array-like)\n",
    "    반환값: SMAPE (단위: %)\n",
    "    \"\"\"\n",
    "    y_true = np.array(y_true)\n",
    "    y_pred = np.array(y_pred)\n",
    "    denominator = (np.abs(y_true) + np.abs(y_pred))\n",
    "    diff = np.abs(y_pred - y_true)\n",
    "    # 0으로 나누는 경우는 diff=0 이므로 0으로 처리됨\n",
    "    smape_val = 100 * np.mean(2 * diff / np.where(denominator == 0, 1, denominator))\n",
    "    return smape_val\n"
   ]
  },
  {
   "cell_type": "markdown",
   "id": "439cc24f-f4ce-457e-b42e-28bf83021127",
   "metadata": {},
   "source": [
    "## 일조/일사량 예측값을 제외하는것이 더 결과가 좋음"
   ]
  },
  {
   "cell_type": "code",
   "execution_count": 26,
   "id": "71273f3e-3384-4d20-808f-38b169512652",
   "metadata": {},
   "outputs": [],
   "source": [
    "def smape_xgb(y_pred, dtrain):\n",
    "    y_true = dtrain.get_label()\n",
    "    denominator = (np.abs(y_true) + np.abs(y_pred))\n",
    "    diff = np.abs(y_pred - y_true)\n",
    "    smape_val = 100 * np.mean(2 * diff / np.where(denominator == 0, 1, denominator))\n",
    "    return 'smape', smape_val, False\n"
   ]
  },
  {
   "cell_type": "code",
   "execution_count": 27,
   "id": "af039f0d-2a49-4da6-a2bb-5c651137171e",
   "metadata": {
    "scrolled": true
   },
   "outputs": [
    {
     "name": "stdout",
     "output_type": "stream",
     "text": [
      "[0]\tvalidation_0-mae:2184.00045\n",
      "[100]\tvalidation_0-mae:161.93601\n",
      "[200]\tvalidation_0-mae:148.11304\n",
      "[300]\tvalidation_0-mae:145.24335\n",
      "[400]\tvalidation_0-mae:144.08548\n",
      "[500]\tvalidation_0-mae:143.36837\n",
      "[600]\tvalidation_0-mae:142.92314\n",
      "[699]\tvalidation_0-mae:142.67703\n",
      "[0]\tvalidation_0-mae:1107.99945\n",
      "[100]\tvalidation_0-mae:51.73281\n",
      "[200]\tvalidation_0-mae:45.69198\n",
      "[300]\tvalidation_0-mae:44.56521\n",
      "[400]\tvalidation_0-mae:44.13901\n",
      "[500]\tvalidation_0-mae:43.86722\n",
      "[600]\tvalidation_0-mae:43.68799\n",
      "[699]\tvalidation_0-mae:43.64665\n",
      "[0]\tvalidation_0-mae:2790.17069\n",
      "[100]\tvalidation_0-mae:110.00830\n",
      "[200]\tvalidation_0-mae:98.54826\n",
      "[300]\tvalidation_0-mae:96.55566\n",
      "[400]\tvalidation_0-mae:95.68912\n",
      "[500]\tvalidation_0-mae:95.25271\n",
      "[600]\tvalidation_0-mae:94.96228\n",
      "[699]\tvalidation_0-mae:94.77579\n",
      "[0]\tvalidation_0-mae:2080.54489\n",
      "[100]\tvalidation_0-mae:93.85615\n",
      "[200]\tvalidation_0-mae:78.54743\n",
      "[300]\tvalidation_0-mae:76.25614\n",
      "[400]\tvalidation_0-mae:75.43742\n",
      "[500]\tvalidation_0-mae:74.92696\n",
      "[600]\tvalidation_0-mae:74.65774\n",
      "[699]\tvalidation_0-mae:74.49111\n",
      "[0]\tvalidation_0-mae:1520.45349\n",
      "[100]\tvalidation_0-mae:93.49809\n",
      "[200]\tvalidation_0-mae:81.94102\n",
      "[300]\tvalidation_0-mae:80.37680\n",
      "[400]\tvalidation_0-mae:79.80283\n",
      "[500]\tvalidation_0-mae:79.50682\n",
      "[600]\tvalidation_0-mae:79.28046\n",
      "[699]\tvalidation_0-mae:79.28730\n",
      "[0]\tvalidation_0-mae:630.29716\n",
      "[100]\tvalidation_0-mae:41.98893\n",
      "[200]\tvalidation_0-mae:34.51030\n",
      "[300]\tvalidation_0-mae:33.38151\n",
      "[400]\tvalidation_0-mae:32.89868\n",
      "[500]\tvalidation_0-mae:32.64737\n",
      "[600]\tvalidation_0-mae:32.52343\n",
      "[699]\tvalidation_0-mae:32.44428\n",
      "[0]\tvalidation_0-mae:685.96986\n",
      "[100]\tvalidation_0-mae:94.54935\n",
      "[200]\tvalidation_0-mae:87.66721\n",
      "[300]\tvalidation_0-mae:85.98077\n",
      "[400]\tvalidation_0-mae:85.08705\n",
      "[500]\tvalidation_0-mae:84.39824\n",
      "[600]\tvalidation_0-mae:84.07423\n",
      "[699]\tvalidation_0-mae:83.91035\n",
      "[0]\tvalidation_0-mae:1984.95773\n",
      "[100]\tvalidation_0-mae:114.04893\n",
      "[200]\tvalidation_0-mae:100.82803\n",
      "[300]\tvalidation_0-mae:98.05380\n",
      "[400]\tvalidation_0-mae:96.76334\n",
      "[500]\tvalidation_0-mae:96.10956\n",
      "[600]\tvalidation_0-mae:95.71524\n",
      "[699]\tvalidation_0-mae:95.40628\n",
      "[0]\tvalidation_0-mae:3385.40825\n",
      "[100]\tvalidation_0-mae:102.50132\n",
      "[200]\tvalidation_0-mae:83.75648\n",
      "[300]\tvalidation_0-mae:81.18396\n",
      "[400]\tvalidation_0-mae:80.19367\n",
      "[500]\tvalidation_0-mae:79.78214\n",
      "[600]\tvalidation_0-mae:79.48608\n",
      "[699]\tvalidation_0-mae:79.38997\n",
      "[0]\tvalidation_0-mae:563.79204\n",
      "[100]\tvalidation_0-mae:76.48567\n",
      "[200]\tvalidation_0-mae:71.02047\n",
      "[300]\tvalidation_0-mae:69.69275\n",
      "[400]\tvalidation_0-mae:69.16035\n",
      "[500]\tvalidation_0-mae:68.88039\n",
      "[600]\tvalidation_0-mae:68.70636\n",
      "[699]\tvalidation_0-mae:68.65859\n"
     ]
    }
   ],
   "source": [
    "from sklearn.metrics import make_scorer\n",
    "import xgboost as xgb\n",
    "\n",
    "# SMAPE 기반 scorer\n",
    "def smape_scorer(y_true, y_pred):\n",
    "    return -smape(y_true, y_pred)  # 음수화 → 최소화 문제를 최대화로 바꿈\n",
    "\n",
    "scorer = make_scorer(smape_scorer, greater_is_better=True)\n",
    "\n",
    "building_types = train['건물유형'].unique()\n",
    "val_scores = {}\n",
    "models = {}\n",
    "preds_list = []\n",
    "\n",
    "for btype in building_types:\n",
    "    # 1. 해당 건물유형 train/test 데이터 선택\n",
    "    train_sub = train[train['건물유형'] == btype]\n",
    "    test_sub  = test[test['건물유형'] == btype]\n",
    "\n",
    "    # 2. feature, target 분리\n",
    "    drop_cols = ['num_date_time', '일시', '건물유형', '전력소비량(kWh)']\n",
    "    X = train_sub.drop(columns=drop_cols)\n",
    "    y = train_sub['전력소비량(kWh)']\n",
    "\n",
    "    # 3. train/val 분리\n",
    "    X_train, X_val, y_train, y_val = train_test_split(\n",
    "        X, y, test_size=0.2, random_state=42\n",
    "    )\n",
    "\n",
    "    # 4. 최적 파라미터 반영한 모델 정의\n",
    "    xgb_model = xgb.XGBRegressor(\n",
    "        n_estimators=700,\n",
    "        learning_rate=0.05,\n",
    "        max_depth=10,\n",
    "        subsample=0.8,\n",
    "        colsample_bytree=0.8,\n",
    "        tree_method=\"hist\",   # GPU 환경이면 \"gpu_hist\"\n",
    "        random_state=42,\n",
    "        n_jobs=-1,\n",
    "        eval_metric=\"mae\"\n",
    "    )\n",
    "\n",
    "    # 5. 학습\n",
    "    xgb_model.fit(\n",
    "        X_train, y_train,\n",
    "        eval_set=[(X_val, y_val)],\n",
    "        verbose=100\n",
    "    )\n",
    "    \n",
    "    # 6. Validation 성능 저장\n",
    "    y_val_pred = xgb_model.predict(X_val)\n",
    "    val_scores[btype] = smape(y_val, y_val_pred)\n",
    "\n",
    "    # 7. 모델 저장\n",
    "    models[btype] = xgb_model\n",
    "\n",
    "    # 8. test 데이터 예측\n",
    "    X_test = test_sub.drop(columns=['num_date_time', '일시', '건물유형'])\n",
    "    X_test = X_test[X_train.columns.tolist()]\n",
    "\n",
    "    test_sub['pred'] = xgb_model.predict(X_test)\n",
    "\n",
    "    preds_list.append(test_sub[['num_date_time', '건물번호', 'pred']])"
   ]
  },
  {
   "cell_type": "code",
   "execution_count": 28,
   "id": "b5187284-6aa7-4cb5-807b-400a2b0d6797",
   "metadata": {},
   "outputs": [
    {
     "name": "stdout",
     "output_type": "stream",
     "text": [
      "건물유형별 SMAPE: {'호텔': np.float64(5.199020050753658), '상용': np.float64(2.196179026349523), '병원': np.float64(2.7183314085929475), '학교': np.float64(2.9018324945811957), '건물기타': np.float64(4.671065966882287), '아파트': np.float64(4.997275768477072), '연구소': np.float64(3.8653902697491604), '백화점': np.float64(4.767196478222327), 'IDC(전화국)': np.float64(0.832500503033067), '공공': np.float64(4.5460138750278105)}\n",
      "평균 SMAPE: 3.669480584166905\n"
     ]
    }
   ],
   "source": [
    "# 전체 예측 결과 합치기\n",
    "final_preds = pd.concat(preds_list).sort_values(by=['num_date_time', '건물번호'])\n",
    "\n",
    "# 건물유형별 성능 확인\n",
    "print(\"건물유형별 SMAPE:\", val_scores)\n",
    "print(\"평균 SMAPE:\", sum(val_scores.values())/len(val_scores))"
   ]
  },
  {
   "cell_type": "code",
   "execution_count": 29,
   "id": "b27866cd-12bd-4f3c-a603-b8ebb21a27b9",
   "metadata": {},
   "outputs": [
    {
     "data": {
      "text/html": [
       "<div>\n",
       "<style scoped>\n",
       "    .dataframe tbody tr th:only-of-type {\n",
       "        vertical-align: middle;\n",
       "    }\n",
       "\n",
       "    .dataframe tbody tr th {\n",
       "        vertical-align: top;\n",
       "    }\n",
       "\n",
       "    .dataframe thead th {\n",
       "        text-align: right;\n",
       "    }\n",
       "</style>\n",
       "<table border=\"1\" class=\"dataframe\">\n",
       "  <thead>\n",
       "    <tr style=\"text-align: right;\">\n",
       "      <th></th>\n",
       "      <th>num_date_time</th>\n",
       "      <th>answer</th>\n",
       "    </tr>\n",
       "  </thead>\n",
       "  <tbody>\n",
       "    <tr>\n",
       "      <th>0</th>\n",
       "      <td>1_20240825 00</td>\n",
       "      <td>4377.240723</td>\n",
       "    </tr>\n",
       "    <tr>\n",
       "      <th>1</th>\n",
       "      <td>1_20240825 01</td>\n",
       "      <td>3872.577393</td>\n",
       "    </tr>\n",
       "    <tr>\n",
       "      <th>2</th>\n",
       "      <td>1_20240825 02</td>\n",
       "      <td>3681.821777</td>\n",
       "    </tr>\n",
       "    <tr>\n",
       "      <th>3</th>\n",
       "      <td>1_20240825 03</td>\n",
       "      <td>3282.305176</td>\n",
       "    </tr>\n",
       "    <tr>\n",
       "      <th>4</th>\n",
       "      <td>1_20240825 04</td>\n",
       "      <td>3008.535400</td>\n",
       "    </tr>\n",
       "    <tr>\n",
       "      <th>...</th>\n",
       "      <td>...</td>\n",
       "      <td>...</td>\n",
       "    </tr>\n",
       "    <tr>\n",
       "      <th>16795</th>\n",
       "      <td>100_20240831 19</td>\n",
       "      <td>2640.962646</td>\n",
       "    </tr>\n",
       "    <tr>\n",
       "      <th>16796</th>\n",
       "      <td>100_20240831 20</td>\n",
       "      <td>2745.410156</td>\n",
       "    </tr>\n",
       "    <tr>\n",
       "      <th>16797</th>\n",
       "      <td>100_20240831 21</td>\n",
       "      <td>2440.273926</td>\n",
       "    </tr>\n",
       "    <tr>\n",
       "      <th>16798</th>\n",
       "      <td>100_20240831 22</td>\n",
       "      <td>2613.595459</td>\n",
       "    </tr>\n",
       "    <tr>\n",
       "      <th>16799</th>\n",
       "      <td>100_20240831 23</td>\n",
       "      <td>2852.882812</td>\n",
       "    </tr>\n",
       "  </tbody>\n",
       "</table>\n",
       "<p>16800 rows × 2 columns</p>\n",
       "</div>"
      ],
      "text/plain": [
       "         num_date_time       answer\n",
       "0        1_20240825 00  4377.240723\n",
       "1        1_20240825 01  3872.577393\n",
       "2        1_20240825 02  3681.821777\n",
       "3        1_20240825 03  3282.305176\n",
       "4        1_20240825 04  3008.535400\n",
       "...                ...          ...\n",
       "16795  100_20240831 19  2640.962646\n",
       "16796  100_20240831 20  2745.410156\n",
       "16797  100_20240831 21  2440.273926\n",
       "16798  100_20240831 22  2613.595459\n",
       "16799  100_20240831 23  2852.882812\n",
       "\n",
       "[16800 rows x 2 columns]"
      ]
     },
     "execution_count": 29,
     "metadata": {},
     "output_type": "execute_result"
    }
   ],
   "source": [
    "submit_final = (\n",
    "    submit\n",
    "    .merge(final_preds, on=['num_date_time'], how='left')\n",
    "    .drop(columns=['answer','건물번호'], axis = 1)                          # 기존 answer 버리고\n",
    "    .rename(columns={'pred': 'answer'})                # pred → answer 로 변경\n",
    ")\n",
    "submit_final.to_csv(f'Submit/submit0820_추가파생변수반영_3.66.csv',index = False)\n",
    "submit_final"
   ]
  },
  {
   "cell_type": "markdown",
   "id": "0218a18b-952c-4729-ae6c-df93184031cb",
   "metadata": {},
   "source": [
    "### 피처임포턴스 확인"
   ]
  },
  {
   "cell_type": "code",
   "execution_count": 13,
   "id": "ba780b25-e8ac-46f5-8953-5e2c53457041",
   "metadata": {},
   "outputs": [
    {
     "name": "stdout",
     "output_type": "stream",
     "text": [
      "               feature  weighted_importance\n",
      "0         ESS저장용량(kWh)             0.370155\n",
      "1            태양광용량(kW)             0.142299\n",
      "2             냉방면적(m2)             0.127049\n",
      "3              연면적(m2)             0.106666\n",
      "4                 건물번호             0.088276\n",
      "5     time_usage_level             0.055766\n",
      "6      cool_area_ratio             0.022530\n",
      "7        cdh_base_used             0.017881\n",
      "8      day_usage_level             0.012147\n",
      "9                 hour             0.011178\n",
      "10            hour_cos             0.009878\n",
      "11               month             0.008278\n",
      "12          is_weekend             0.005622\n",
      "13  cooling_load_index             0.003584\n",
      "14             holiday             0.002662\n",
      "15             weekday             0.002349\n",
      "16           PCS용량(kW)             0.002310\n",
      "17           month_sin             0.002075\n",
      "18           month_cos             0.001664\n",
      "19                  DI             0.001644\n"
     ]
    }
   ],
   "source": [
    "import pandas as pd\n",
    "\n",
    "# 가중 중요도 집계용 딕셔너리\n",
    "all_importances = {}\n",
    "\n",
    "for btype, model in models.items():\n",
    "    # 건물유형별 feature importance (gain 기준)\n",
    "    importance = model.get_booster().get_score(importance_type='gain')\n",
    "    \n",
    "    # 가중치 = 해당 건물유형 샘플 수\n",
    "    weight = len(train[train['건물유형']==btype])\n",
    "    \n",
    "    for feat, val in importance.items():\n",
    "        if feat not in all_importances:\n",
    "            all_importances[feat] = 0\n",
    "        all_importances[feat] += val * weight   # 가중합\n",
    "\n",
    "# DataFrame 변환\n",
    "fi_all = pd.DataFrame(list(all_importances.items()), columns=['feature','weighted_importance'])\n",
    "\n",
    "# 정규화 (0~1 사이로)\n",
    "fi_all['weighted_importance'] /= fi_all['weighted_importance'].sum()\n",
    "\n",
    "# 중요도 순 정렬\n",
    "fi_all = fi_all.sort_values(by='weighted_importance', ascending=False).reset_index(drop=True)\n",
    "\n",
    "print(fi_all.head(20))  # 상위 20개 출력\n"
   ]
  },
  {
   "cell_type": "code",
   "execution_count": 14,
   "id": "b5b173eb-ef70-4b60-9363-14987cf4f950",
   "metadata": {},
   "outputs": [
    {
     "name": "stdout",
     "output_type": "stream",
     "text": [
      "제거 대상 feature: ['기온(°C)', '강수량_전일', 'ΔT', 'ess_hours']\n"
     ]
    }
   ],
   "source": [
    "threshold = fi_all['weighted_importance'].quantile(0.1)  # 하위 10% 컷\n",
    "low_importance_feats = fi_all[fi_all['weighted_importance'] <= threshold]['feature'].tolist()\n",
    "\n",
    "print(\"제거 대상 feature:\", low_importance_feats)"
   ]
  },
  {
   "cell_type": "code",
   "execution_count": 15,
   "id": "78348eb5-1132-4f00-80d2-a0184ac7b34b",
   "metadata": {},
   "outputs": [],
   "source": [
    "val_scores_reduced = {}\n",
    "models_reduced = {}\n",
    "\n",
    "for btype in building_types:\n",
    "    train_sub = train[train['건물유형']==btype]\n",
    "    test_sub  = test[test['건물유형']==btype]\n",
    "    \n",
    "    drop_cols = ['num_date_time','일시','건물유형','일사(MJ/m2)','일조(hr)','전력소비량(kWh)']\n",
    "    # 기존 drop + 중요도 낮은 feature 제거\n",
    "    X = train_sub.drop(columns=drop_cols+low_importance_feats, errors='ignore')\n",
    "    y = train_sub['전력소비량(kWh)']\n",
    "    \n",
    "    X_train, X_val, y_train, y_val = train_test_split(X, y, test_size=0.2, random_state=42)\n",
    "    \n",
    "    # ✅ 기존 best_model을 그대로 불러오기\n",
    "    best_model = models[btype]   # RandomizedSearchCV.best_estimator_\n",
    "    \n",
    "    # 새 feature셋으로 다시 피팅\n",
    "    best_model.fit(X_train, y_train, eval_set=[(X_val,y_val)], verbose=False)\n",
    "    \n",
    "    y_val_pred = best_model.predict(X_val)\n",
    "    val_scores_reduced[btype] = smape(y_val, y_val_pred)\n",
    "    models_reduced[btype] = best_model"
   ]
  },
  {
   "cell_type": "code",
   "execution_count": 16,
   "id": "1fa5e9fa-f070-400e-a14a-b763816224ba",
   "metadata": {},
   "outputs": [
    {
     "name": "stdout",
     "output_type": "stream",
     "text": [
      "원래 SMAPE: {'호텔': np.float64(5.4241610950788655), '상용': np.float64(2.2336027793754427), '병원': np.float64(2.8414851604968807), '학교': np.float64(3.076577360429025), '건물기타': np.float64(4.771029682744779), '아파트': np.float64(5.283267304975024), '연구소': np.float64(4.05076788113873), '백화점': np.float64(4.94146629044023), 'IDC(전화국)': np.float64(0.8814767396823233), '공공': np.float64(4.676453281515664)}\n",
      "줄인 SMAPE: {'호텔': np.float64(5.199020050753658), '상용': np.float64(2.196179026349523), '병원': np.float64(2.7183314085929475), '학교': np.float64(2.9018324945811957), '건물기타': np.float64(4.671065966882287), '아파트': np.float64(4.997275768477072), '연구소': np.float64(3.8653902697491604), '백화점': np.float64(4.767196478222327), 'IDC(전화국)': np.float64(0.832500503033067), '공공': np.float64(4.5460138750278105)}\n",
      "평균 SMAPE(원래): 3.818028757587696\n",
      "평균 SMAPE(줄인): 3.669480584166905\n"
     ]
    }
   ],
   "source": [
    "print(\"원래 SMAPE:\", val_scores)\n",
    "print(\"줄인 SMAPE:\", val_scores_reduced)\n",
    "\n",
    "print(\"평균 SMAPE(원래):\", sum(val_scores.values())/len(val_scores))\n",
    "print(\"평균 SMAPE(줄인):\", sum(val_scores_reduced.values())/len(val_scores_reduced))"
   ]
  },
  {
   "cell_type": "markdown",
   "id": "cdd1d37d-fb7c-4eca-b994-c0b5ad268bfa",
   "metadata": {},
   "source": [
    "smape 3.9일때 점수 7.62이었음 # 현재에서 가장 좋은 결과 도출  \n",
    "\n",
    "--> 현재 3.66 성능 소폭 증가    "
   ]
  },
  {
   "cell_type": "code",
   "execution_count": 18,
   "id": "1183b730-1f14-4c7c-8042-fa8c6bd3b8f2",
   "metadata": {},
   "outputs": [],
   "source": [
    "additional_drop_cols = ['기온(°C)', '강수량_전일', 'ΔT', 'ess_hours']\n",
    "train.drop(additional_drop_cols, axis = 1).to_csv('Data/train_0820with변화량변수.csv',index = False)\n",
    "test.drop(additional_drop_cols, axis = 1).to_csv('Data/test_0820with변화량변수.csv',index = False)"
   ]
  },
  {
   "cell_type": "code",
   "execution_count": null,
   "id": "49775688-9530-48da-9ecf-77afa9209c9b",
   "metadata": {},
   "outputs": [],
   "source": []
  }
 ],
 "metadata": {
  "kernelspec": {
   "display_name": "Python 3 (ipykernel)",
   "language": "python",
   "name": "python3"
  },
  "language_info": {
   "codemirror_mode": {
    "name": "ipython",
    "version": 3
   },
   "file_extension": ".py",
   "mimetype": "text/x-python",
   "name": "python",
   "nbconvert_exporter": "python",
   "pygments_lexer": "ipython3",
   "version": "3.13.5"
  }
 },
 "nbformat": 4,
 "nbformat_minor": 5
}
