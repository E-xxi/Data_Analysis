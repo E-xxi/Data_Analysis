{
  "nbformat": 4,
  "nbformat_minor": 0,
  "metadata": {
    "colab": {
      "name": "houseprice_categrical",
      "provenance": [],
      "collapsed_sections": [],
      "authorship_tag": "ABX9TyN5Q1RCxLu+8TMViGr5HHHc",
      "include_colab_link": true
    },
    "kernelspec": {
      "name": "python3",
      "display_name": "Python 3"
    },
    "language_info": {
      "name": "python"
    }
  },
  "cells": [
    {
      "cell_type": "markdown",
      "metadata": {
        "id": "view-in-github",
        "colab_type": "text"
      },
      "source": [
        "<a href=\"https://colab.research.google.com/github/E-xxi/kaggle_house-price/blob/main/houseprice_categrical.ipynb\" target=\"_parent\"><img src=\"https://colab.research.google.com/assets/colab-badge.svg\" alt=\"Open In Colab\"/></a>"
      ]
    },
    {
      "cell_type": "markdown",
      "source": [
        "\n",
        "# House Prices - Advanced Regression Techniques\n",
        "sale prices를 예측"
      ],
      "metadata": {
        "id": "TohWXEZAC8PU"
      }
    },
    {
      "cell_type": "markdown",
      "source": [
        "### 설정"
      ],
      "metadata": {
        "id": "3WTJMNaUEypL"
      }
    },
    {
      "cell_type": "code",
      "execution_count": 43,
      "metadata": {
        "id": "ozwihK3-C1t4",
        "colab": {
          "base_uri": "https://localhost:8080/",
          "height": 72
        },
        "outputId": "8c21a552-bf9b-4eb5-897b-5d17e86b9f98"
      },
      "outputs": [
        {
          "output_type": "stream",
          "name": "stdout",
          "text": [
            "Drive already mounted at /content/gdrive; to attempt to forcibly remount, call drive.mount(\"/content/gdrive\", force_remount=True).\n",
            "/content/gdrive/My Drive/Kaggle\n"
          ]
        },
        {
          "output_type": "execute_result",
          "data": {
            "text/plain": [
              "'/content/gdrive/My Drive/Kaggle'"
            ],
            "application/vnd.google.colaboratory.intrinsic+json": {
              "type": "string"
            }
          },
          "metadata": {},
          "execution_count": 43
        }
      ],
      "source": [
        "from google.colab import drive\n",
        "drive.mount('/content/gdrive')\n",
        "\n",
        "import os\n",
        "os.environ['KAGGLE_CONFIG_DIR'] = \"/content/gdrive/My Drive/Kaggle\"\n",
        "\n",
        "%cd /content/gdrive/My Drive/Kaggle\n",
        "%pwd\n"
      ]
    },
    {
      "cell_type": "code",
      "source": [
        "# 데이터 다운받기\n",
        "!kaggle competitions download -c house-prices-advanced-regression-techniques\n",
        "!ls\n",
        "\n",
        "%mkdir input/house-price\n",
        "%mv house-prices-advanced-regression-techniques.zip input/house-price\n",
        "%cd input/house-price/\n",
        "\n",
        "!unzip \\*.zip  && rm *.zip"
      ],
      "metadata": {
        "id": "63T1PFBoDHNd",
        "colab": {
          "base_uri": "https://localhost:8080/"
        },
        "outputId": "24c244d0-366a-479c-deac-e9113b463434"
      },
      "execution_count": 40,
      "outputs": [
        {
          "output_type": "stream",
          "name": "stdout",
          "text": [
            "Downloading house-prices-advanced-regression-techniques.zip to /content/gdrive/My Drive/Kaggle\n",
            "\r  0% 0.00/199k [00:00<?, ?B/s]\n",
            "\r100% 199k/199k [00:00<00:00, 21.8MB/s]\n",
            "house-prices-advanced-regression-techniques.zip  kaggle.json\n",
            "input\t\t\t\t\t\t lecture07_Project02_2020113677\n",
            "mkdir: cannot create directory ‘input/house-price’: File exists\n",
            "/content/gdrive/My Drive/Kaggle/input/house-price\n",
            "Archive:  house-prices-advanced-regression-techniques.zip\n",
            "replace data_description.txt? [y]es, [n]o, [A]ll, [N]one, [r]ename: "
          ]
        }
      ]
    },
    {
      "cell_type": "markdown",
      "source": [
        "### 연결"
      ],
      "metadata": {
        "id": "EeEWSf-cE2Mo"
      }
    },
    {
      "cell_type": "code",
      "source": [
        "import numpy as np # linear algebra\n",
        "import pandas as pd # data processing, CSV file I/O (e.g. pd.read_csv)\n",
        "import matplotlib.pyplot as plt\n",
        "import seaborn as sns\n",
        "\n",
        "import os\n",
        "for dirname, _, filenames in os.walk('/content/gdrive/My Drive/Kaggle/input/house-price'):\n",
        "    for filename in filenames:\n",
        "        print(os.path.join(dirname, filename))\n",
        "\n",
        "%pwd\n",
        "%cd input/house-price/\n",
        "\n",
        "data = pd.read_csv('train.csv')\n",
        "OriginData = pd.read_csv('train.csv')\n",
        "test = pd.read_csv('test.csv')"
      ],
      "metadata": {
        "colab": {
          "base_uri": "https://localhost:8080/"
        },
        "id": "R_Y_sjggE55Q",
        "outputId": "d283f787-6c99-4cec-898e-bb33b4c39ddc"
      },
      "execution_count": 44,
      "outputs": [
        {
          "output_type": "stream",
          "name": "stdout",
          "text": [
            "/content/gdrive/My Drive/Kaggle/input/house-price/test.csv\n",
            "/content/gdrive/My Drive/Kaggle/input/house-price/train.csv\n",
            "/content/gdrive/My Drive/Kaggle/input/house-price/data_description.txt\n",
            "/content/gdrive/My Drive/Kaggle/input/house-price/sample_submission.csv\n",
            "/content/gdrive/My Drive/Kaggle/input/house-price/result1.csv\n",
            "/content/gdrive/My Drive/Kaggle/input/house-price/result2.csv\n",
            "/content/gdrive/My Drive/Kaggle/input/house-price/result3.csv\n",
            "/content/gdrive/My Drive/Kaggle/input/house-price\n"
          ]
        }
      ]
    },
    {
      "cell_type": "markdown",
      "source": [
        "# Control categorical value"
      ],
      "metadata": {
        "id": "GwmW15Ym9j6X"
      }
    },
    {
      "cell_type": "markdown",
      "source": [
        "data description에서 ordinal variable를 고른다.\n",
        "\n",
        "\n",
        "---\n",
        "\n",
        "## 1. Ordinal Encoding\n",
        "\n",
        "Ordinal variables\n",
        "\n",
        "- Utilities, ExterQual, ExterCond, BsmtQual, BsmtCond, BsmtExposure, BsmtFinType1, BsmtFinType2, HeatingQC, CentralAir(Y/N), KitchenQual, FireplaceQu, GarageFinish, GarageQual, GarageCond, PavedDrive, PoolQC\n"
      ],
      "metadata": {
        "id": "4HpKA84a-91u"
      }
    },
    {
      "cell_type": "code",
      "source": [
        "#feature와 target 설정\n",
        "from sklearn.model_selection import train_test_split\n",
        "#train할수없는 SalePrice가 NaN인 경우 행삭제\n",
        "data.dropna(axis=0, subset=['SalePrice'], inplace = True)\n",
        "\n",
        "y = data.SalePrice\n",
        "data.drop(['SalePrice'],axis=1, inplace = True)\n",
        "\n",
        "X = data.select_dtypes(exclude=['object'])"
      ],
      "metadata": {
        "id": "uH6iRo3U-pU0"
      },
      "execution_count": 45,
      "outputs": []
    },
    {
      "cell_type": "code",
      "source": [
        "ordinal_var= ['Utilities', 'ExterQual', 'ExterCond', 'BsmtQual', 'BsmtCond', 'BsmtExposure', 'BsmtFinType1', 'BsmtFinType2', 'HeatingQC', 'CentralAir', 'KitchenQual',\n",
        "              'FireplaceQu', 'GarageFinish', 'GarageQual', 'GarageCond', 'PavedDrive', 'PoolQC' ] \n",
        "\n",
        "cate_X = pd.concat([X,data[ordinal_var]],axis = 1)\n",
        "\n",
        "cate_X.head()"
      ],
      "metadata": {
        "id": "NFWc2mkZ1zRR"
      },
      "execution_count": null,
      "outputs": []
    },
    {
      "cell_type": "markdown",
      "source": [
        "numerical 및 선택한 일부 ordinal variable를 함께 가지는 cate_X를 생성해줬다."
      ],
      "metadata": {
        "id": "WTbIEteB3wiA"
      }
    },
    {
      "cell_type": "code",
      "source": [
        "#우선적으로 결측값 처리를 한다. \n",
        "threshold = 0.7\n",
        "\n",
        "#Dropping columns with missing value rate higher than threshold\n",
        "cate_X = cate_X[cate_X.columns[cate_X.isnull().mean() < threshold]]\n",
        "#Dropping rows with missing value rate higher than threshold\n",
        "cate_X = cate_X.loc[cate_X.isnull().mean(axis=1) < threshold]"
      ],
      "metadata": {
        "id": "GsF_Ceg-clK9"
      },
      "execution_count": 65,
      "outputs": []
    },
    {
      "cell_type": "code",
      "source": [
        "X_train, X_valid, y_train, y_valid = train_test_split(cate_X, y, train_size=0.8, test_size=0.2,\n",
        "                                                      random_state=0)\n",
        "print(X_train.shape)"
      ],
      "metadata": {
        "colab": {
          "base_uri": "https://localhost:8080/"
        },
        "id": "_gQ7WV_H0cqA",
        "outputId": "7160b985-ede6-473e-adb9-2824182f5cf9"
      },
      "execution_count": 66,
      "outputs": [
        {
          "output_type": "stream",
          "name": "stdout",
          "text": [
            "(1168, 53)\n"
          ]
        }
      ]
    },
    {
      "cell_type": "markdown",
      "source": [
        "결측값 처리로 일부 열이 사라졌음으로 새로 column 리스트를 생성한다."
      ],
      "metadata": {
        "id": "YVu5WZpS5anZ"
      }
    },
    {
      "cell_type": "code",
      "source": [
        "columns_list = list(cate_X.columns)\n",
        "print(columns_list)\n",
        "\n",
        "obj_X = list(cate_X.select_dtypes(['object']).columns)\n",
        "print(obj_X)"
      ],
      "metadata": {
        "colab": {
          "base_uri": "https://localhost:8080/"
        },
        "id": "druUZepG5ZOc",
        "outputId": "54a20aa4-56dc-4359-afed-5a83850fda9b"
      },
      "execution_count": 69,
      "outputs": [
        {
          "output_type": "stream",
          "name": "stdout",
          "text": [
            "['Id', 'MSSubClass', 'LotFrontage', 'LotArea', 'OverallQual', 'OverallCond', 'YearBuilt', 'YearRemodAdd', 'MasVnrArea', 'BsmtFinSF1', 'BsmtFinSF2', 'BsmtUnfSF', 'TotalBsmtSF', '1stFlrSF', '2ndFlrSF', 'LowQualFinSF', 'GrLivArea', 'BsmtFullBath', 'BsmtHalfBath', 'FullBath', 'HalfBath', 'BedroomAbvGr', 'KitchenAbvGr', 'TotRmsAbvGrd', 'Fireplaces', 'GarageYrBlt', 'GarageCars', 'GarageArea', 'WoodDeckSF', 'OpenPorchSF', 'EnclosedPorch', '3SsnPorch', 'ScreenPorch', 'PoolArea', 'MiscVal', 'MoSold', 'YrSold', 'Utilities', 'ExterQual', 'ExterCond', 'BsmtQual', 'BsmtCond', 'BsmtExposure', 'BsmtFinType1', 'BsmtFinType2', 'HeatingQC', 'CentralAir', 'KitchenQual', 'FireplaceQu', 'GarageFinish', 'GarageQual', 'GarageCond', 'PavedDrive']\n",
            "['Utilities', 'ExterQual', 'ExterCond', 'BsmtQual', 'BsmtCond', 'BsmtExposure', 'BsmtFinType1', 'BsmtFinType2', 'HeatingQC', 'CentralAir', 'KitchenQual', 'FireplaceQu', 'GarageFinish', 'GarageQual', 'GarageCond', 'PavedDrive']\n"
          ]
        }
      ]
    },
    {
      "cell_type": "code",
      "source": [
        "from sklearn.preprocessing import OrdinalEncoder\n",
        "\n",
        "ordinal_encoder = OrdinalEncoder()\n",
        "X_train[obj_X] = ordinal_encoder.fit_transform(X_train[obj_X])\n",
        "X_valid[obj_X] = ordinal_encoder.transform(X_valid[obj_X])"
      ],
      "metadata": {
        "id": "FoyIW0iQ-299"
      },
      "execution_count": 70,
      "outputs": []
    },
    {
      "cell_type": "markdown",
      "source": [
        "\n",
        "\n",
        "---\n",
        "## 2. control missing values : 0.15209\n"
      ],
      "metadata": {
        "id": "04ibos7eFGWW"
      }
    },
    {
      "cell_type": "markdown",
      "source": [
        "결측값 처리가 필요한 열을 파악한다. "
      ],
      "metadata": {
        "id": "Ft5e-c80HFHK"
      }
    },
    {
      "cell_type": "code",
      "source": [
        "from sklearn.ensemble import RandomForestRegressor\n",
        "from sklearn.metrics import mean_absolute_error\n",
        "\n",
        "# Function for comparing different approaches\n",
        "def score_dataset(X_train, X_valid, y_train, y_valid):\n",
        "    model = RandomForestRegressor(n_estimators=10, random_state=0)\n",
        "    model.fit(X_train, y_train)\n",
        "    preds = model.predict(X_valid)\n",
        "    return mean_absolute_error(y_valid, preds)"
      ],
      "metadata": {
        "id": "T64fcfKRbcKk"
      },
      "execution_count": 71,
      "outputs": []
    },
    {
      "cell_type": "code",
      "source": [
        "# Number of missing values in each column of training data\n",
        "missing_val_count_by_column = (X_train.isnull().sum())\n",
        "print(missing_val_count_by_column[missing_val_count_by_column > 0])"
      ],
      "metadata": {
        "id": "axaqwfGgHEUD",
        "colab": {
          "base_uri": "https://localhost:8080/"
        },
        "outputId": "fc79f313-1cdc-40ee-80a7-3757346dd9e8"
      },
      "execution_count": 73,
      "outputs": [
        {
          "output_type": "stream",
          "name": "stdout",
          "text": [
            "LotFrontage     212\n",
            "MasVnrArea        6\n",
            "GarageYrBlt      58\n",
            "BsmtQual         28\n",
            "BsmtCond         28\n",
            "BsmtExposure     28\n",
            "BsmtFinType1     28\n",
            "BsmtFinType2     29\n",
            "FireplaceQu     551\n",
            "GarageFinish     58\n",
            "GarageQual       58\n",
            "GarageCond       58\n",
            "dtype: int64\n"
          ]
        }
      ]
    },
    {
      "cell_type": "markdown",
      "source": [
        "LotFrontage, MasVnrArea, GarageYrBlt에서 결측값을 확인할 수 있다. \n",
        "\n",
        "- LotFrontage, MasVnrArea, GarageYrBlt:  관련한 다른 feature들에는 값이 존재하므로 extansion이 필요하진 않다. \n",
        "\n",
        "\n",
        "---\n",
        "\n",
        "\n",
        "\n",
        "### imputation을 이용하여 결측값 처리\n",
        "\n",
        "\n",
        "\n",
        "\n",
        "\n"
      ],
      "metadata": {
        "id": "7mgLkefYHy8T"
      }
    },
    {
      "cell_type": "code",
      "source": [
        "from sklearn.impute import SimpleImputer\n",
        "\n",
        "imputer = SimpleImputer()\n",
        "imputed_X_train = pd.DataFrame(imputer.fit_transform(X_train))\n",
        "imputed_X_valid = pd.DataFrame(imputer.transform(X_valid))\n",
        "\n",
        "imputed_X_train.columns = X_train.columns\n",
        "imputed_X_valid.columns = X_valid.columns"
      ],
      "metadata": {
        "id": "0wphYk51KYpi"
      },
      "execution_count": 74,
      "outputs": []
    },
    {
      "cell_type": "code",
      "source": [
        "print(score_dataset(imputed_X_train, imputed_X_valid, y_train, y_valid))"
      ],
      "metadata": {
        "colab": {
          "base_uri": "https://localhost:8080/"
        },
        "id": "5iLjtDOSdPU3",
        "outputId": "4ff68176-3fbc-40ce-9e2e-bdf8a2ddf116"
      },
      "execution_count": 75,
      "outputs": [
        {
          "output_type": "stream",
          "name": "stdout",
          "text": [
            "18730.180479452054\n"
          ]
        }
      ]
    },
    {
      "cell_type": "markdown",
      "source": [
        "처리한 데이터 전체를 넣어서 모델을 확인한다."
      ],
      "metadata": {
        "id": "U1zXtkrseGdv"
      }
    },
    {
      "cell_type": "code",
      "source": [
        "from sklearn.ensemble import RandomForestRegressor\n",
        "estimat_num = [10,100,200,500,1000]\n",
        "for e in estimat_num:\n",
        "  choosing_final_model = RandomForestRegressor(n_estimators = e, min_samples_split = 20)\n",
        "  choosing_final_model.fit(imputed_X_train, y_train)\n",
        "  preds = choosing_final_model.predict(imputed_X_valid)\n",
        "  print(mean_absolute_error(y_valid, preds))"
      ],
      "metadata": {
        "colab": {
          "base_uri": "https://localhost:8080/"
        },
        "id": "BAtcKjV6eU_l",
        "outputId": "28a9f4f1-e002-4873-a271-87ef7c084d89"
      },
      "execution_count": 81,
      "outputs": [
        {
          "output_type": "stream",
          "name": "stdout",
          "text": [
            "20004.54866532961\n",
            "18132.09587298807\n",
            "18349.15315375354\n",
            "18216.855683083926\n",
            "18204.845206037033\n"
          ]
        }
      ]
    },
    {
      "cell_type": "code",
      "source": [
        "best_esti = 100"
      ],
      "metadata": {
        "id": "9CIC48B77bWT"
      },
      "execution_count": null,
      "outputs": []
    },
    {
      "cell_type": "code",
      "source": [
        "split_num = [10,50, 100,200,500]\n",
        "for e in estimat_num:\n",
        "  choosing_final_model = RandomForestRegressor(n_estimators = best_esti, min_samples_split = e)\n",
        "  choosing_final_model.fit(imputed_X_train, y_train)\n",
        "  preds = choosing_final_model.predict(imputed_X_valid)\n",
        "  print(mean_absolute_error(y_valid, preds))"
      ],
      "metadata": {
        "id": "oJwPwRiZgFaL",
        "colab": {
          "base_uri": "https://localhost:8080/"
        },
        "outputId": "bd89fa5a-a0bf-4e3c-bde6-01d60b5fa3c9"
      },
      "execution_count": 83,
      "outputs": [
        {
          "output_type": "stream",
          "name": "stdout",
          "text": [
            "17837.675817804826\n",
            "23317.62703508772\n",
            "28288.973595728614\n",
            "35392.508382740714\n",
            "57066.360047616814\n"
          ]
        }
      ]
    },
    {
      "cell_type": "code",
      "source": [
        "best_split = 10"
      ],
      "metadata": {
        "id": "4Y12x_BD7qkB"
      },
      "execution_count": 84,
      "outputs": []
    },
    {
      "cell_type": "markdown",
      "source": [
        "위의 비교로 설정한 값을 이용해 최종 randomforestregressor 모델을 확정한다. "
      ],
      "metadata": {
        "id": "AaaiBGEx70BF"
      }
    },
    {
      "cell_type": "code",
      "source": [
        "imputer = SimpleImputer()\n",
        "cate_X[obj_X] = ordinal_encoder.fit_transform(cate_X[obj_X])\n",
        "imputed_X = pd.DataFrame(imputer.fit_transform(cate_X))\n",
        "\n",
        "final_model = RandomForestRegressor(n_estimators = best_esti, min_samples_split = best_split)\n",
        "final_model.fit(imputed_X, y)"
      ],
      "metadata": {
        "colab": {
          "base_uri": "https://localhost:8080/"
        },
        "id": "X2WPbHu2ONu1",
        "outputId": "f2e6a7bd-a7a7-45cc-dfc3-8d475dc1a89d"
      },
      "execution_count": 107,
      "outputs": [
        {
          "output_type": "execute_result",
          "data": {
            "text/plain": [
              "RandomForestRegressor(min_samples_split=10)"
            ]
          },
          "metadata": {},
          "execution_count": 107
        }
      ]
    },
    {
      "cell_type": "code",
      "source": [
        "X_test = test[columns_list]\n",
        "X_test[obj_X] = ordinal_encoder.fit_transform(X_test[obj_X])\n",
        "imputed_X_test = pd.DataFrame(imputer.fit_transform(X_test))\n",
        "\n",
        "# Generate test predictions\n",
        "preds_test = final_model.predict(imputed_X_test)\n",
        "\n",
        "# Save predictions in format used for competition scoring\n",
        "output = pd.DataFrame({'Id': X_test.Id,\n",
        "                       'SalePrice': preds_test})\n",
        "output.to_csv('result4.csv', index=False)"
      ],
      "metadata": {
        "id": "h3VsEREpLIpR",
        "colab": {
          "base_uri": "https://localhost:8080/"
        },
        "outputId": "066c5d8b-3afb-4a61-c7d3-ebc43348ce33"
      },
      "execution_count": 109,
      "outputs": [
        {
          "output_type": "stream",
          "name": "stderr",
          "text": [
            "/usr/local/lib/python3.7/dist-packages/pandas/core/frame.py:3678: SettingWithCopyWarning: \n",
            "A value is trying to be set on a copy of a slice from a DataFrame.\n",
            "Try using .loc[row_indexer,col_indexer] = value instead\n",
            "\n",
            "See the caveats in the documentation: https://pandas.pydata.org/pandas-docs/stable/user_guide/indexing.html#returning-a-view-versus-a-copy\n",
            "  self[col] = igetitem(value, i)\n"
          ]
        }
      ]
    }
  ]
}
