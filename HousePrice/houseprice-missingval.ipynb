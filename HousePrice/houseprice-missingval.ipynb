{
  "nbformat": 4,
  "nbformat_minor": 0,
  "metadata": {
    "colab": {
      "name": "ML_houseprice.ipynb",
      "provenance": [],
      "collapsed_sections": [],
      "authorship_tag": "ABX9TyOe6smBa3BBb+Y2smYemWPA",
      "include_colab_link": true
    },
    "kernelspec": {
      "name": "python3",
      "display_name": "Python 3"
    },
    "language_info": {
      "name": "python"
    }
  },
  "cells": [
    {
      "cell_type": "markdown",
      "metadata": {
        "id": "view-in-github",
        "colab_type": "text"
      },
      "source": [
        "<a href=\"https://colab.research.google.com/github/E-xxi/kaggle_house-price/blob/main/houseprice%5B2%5D.ipynb\" target=\"_parent\"><img src=\"https://colab.research.google.com/assets/colab-badge.svg\" alt=\"Open In Colab\"/></a>"
      ]
    },
    {
      "cell_type": "markdown",
      "source": [
        "\n",
        "# House Prices - Advanced Regression Techniques\n",
        "sale prices를 예측"
      ],
      "metadata": {
        "id": "TohWXEZAC8PU"
      }
    },
    {
      "cell_type": "markdown",
      "source": [
        "### 설정"
      ],
      "metadata": {
        "id": "3WTJMNaUEypL"
      }
    },
    {
      "cell_type": "code",
      "execution_count": null,
      "metadata": {
        "id": "ozwihK3-C1t4",
        "colab": {
          "base_uri": "https://localhost:8080/",
          "height": 72
        },
        "outputId": "28cc7fd9-f714-4c2f-85f8-ec4ad6da96a3"
      },
      "outputs": [
        {
          "output_type": "stream",
          "name": "stdout",
          "text": [
            "Mounted at /content/gdrive\n",
            "/content/gdrive/My Drive/Kaggle\n"
          ]
        },
        {
          "output_type": "execute_result",
          "data": {
            "text/plain": [
              "'/content/gdrive/My Drive/Kaggle'"
            ],
            "application/vnd.google.colaboratory.intrinsic+json": {
              "type": "string"
            }
          },
          "metadata": {},
          "execution_count": 1
        }
      ],
      "source": [
        "from google.colab import drive\n",
        "drive.mount('/content/gdrive')\n",
        "\n",
        "import os\n",
        "os.environ['KAGGLE_CONFIG_DIR'] = \"/content/gdrive/My Drive/Kaggle\"\n",
        "\n",
        "%cd /content/gdrive/My Drive/Kaggle\n",
        "%pwd\n"
      ]
    },
    {
      "cell_type": "code",
      "source": [
        "# 데이터 다운받기\n",
        "!kaggle competitions download -c house-prices-advanced-regression-techniques\n",
        "!ls\n",
        "\n",
        "%mkdir input/house-price\n",
        "%mv house-prices-advanced-regression-techniques.zip input/house-price\n",
        "%cd input/house-price/\n",
        "\n",
        "!unzip \\*.zip  && rm *.zip"
      ],
      "metadata": {
        "id": "63T1PFBoDHNd"
      },
      "execution_count": null,
      "outputs": []
    },
    {
      "cell_type": "markdown",
      "source": [
        "### 연결"
      ],
      "metadata": {
        "id": "EeEWSf-cE2Mo"
      }
    },
    {
      "cell_type": "code",
      "source": [
        "import numpy as np # linear algebra\n",
        "import pandas as pd # data processing, CSV file I/O (e.g. pd.read_csv)\n",
        "import matplotlib.pyplot as plt\n",
        "import seaborn as sns\n",
        "\n",
        "import os\n",
        "for dirname, _, filenames in os.walk('/content/gdrive/My Drive/Kaggle/input/house-price'):\n",
        "    for filename in filenames:\n",
        "        print(os.path.join(dirname, filename))\n",
        "\n",
        "%pwd\n",
        "%cd input/house-price/\n",
        "\n",
        "data = pd.read_csv('train.csv')\n",
        "OriginData = pd.read_csv('train.csv')\n",
        "test = pd.read_csv('test.csv')"
      ],
      "metadata": {
        "colab": {
          "base_uri": "https://localhost:8080/"
        },
        "id": "R_Y_sjggE55Q",
        "outputId": "24f729de-d108-4830-eca0-867ee8880b05"
      },
      "execution_count": null,
      "outputs": [
        {
          "output_type": "stream",
          "name": "stdout",
          "text": [
            "/content/gdrive/My Drive/Kaggle/input/house-price/test.csv\n",
            "/content/gdrive/My Drive/Kaggle/input/house-price/train.csv\n",
            "/content/gdrive/My Drive/Kaggle/input/house-price/data_description.txt\n",
            "/content/gdrive/My Drive/Kaggle/input/house-price/sample_submission.csv\n",
            "/content/gdrive/My Drive/Kaggle/input/house-price/result1.csv\n",
            "/content/gdrive/My Drive/Kaggle/input/house-price/result2.csv\n",
            "/content/gdrive/My Drive/Kaggle/input/house-price\n"
          ]
        }
      ]
    },
    {
      "cell_type": "markdown",
      "source": [
        "\n",
        "\n",
        "---\n",
        "## 1. control missing values : 0.15209\n"
      ],
      "metadata": {
        "id": "04ibos7eFGWW"
      }
    },
    {
      "cell_type": "code",
      "source": [
        "#feature와 target 설정\n",
        "from sklearn.model_selection import train_test_split\n",
        "#train할수없는 SalePrice가 NaN인 경우 행삭제\n",
        "data.dropna(axis=0, subset=['SalePrice'], inplace = True)\n",
        "\n",
        "y = data.SalePrice\n",
        "data.drop(['SalePrice'],axis=1, inplace = True)\n",
        "X = data.select_dtypes(exclude=['object']) #numerical만 다루도록한다. \n",
        "\n",
        "X_test = test.select_dtypes(exclude=['object']) #test용 feature도 numerical만 "
      ],
      "metadata": {
        "id": "z8b2a3SLFS2w"
      },
      "execution_count": null,
      "outputs": []
    },
    {
      "cell_type": "code",
      "source": [
        "#우선적으로 결측값 처리를 한다. \n",
        "threshold = 0.7\n",
        "\n",
        "#Dropping columns with missing value rate higher than threshold\n",
        "data = data[data.columns[data.isnull().mean() < threshold]]\n",
        "#Dropping rows with missing value rate higher than threshold\n",
        "data = data.loc[data.isnull().mean(axis=1) < threshold]"
      ],
      "metadata": {
        "id": "GsF_Ceg-clK9"
      },
      "execution_count": null,
      "outputs": []
    },
    {
      "cell_type": "markdown",
      "source": [
        "결측값 처리가 필요한 열을 파악한다. "
      ],
      "metadata": {
        "id": "Ft5e-c80HFHK"
      }
    },
    {
      "cell_type": "code",
      "source": [
        "X_train, X_valid, y_train, y_valid = train_test_split(X, y, train_size=0.8, test_size=0.2,\n",
        "                                                      random_state=0)\n",
        "# Shape of training data (num_rows, num_columns)\n",
        "print(X_train.shape)\n",
        "\n",
        "# Number of missing values in each column of training data\n",
        "missing_val_count_by_column = (X_train.isnull().sum())\n",
        "print(missing_val_count_by_column[missing_val_count_by_column > 0])"
      ],
      "metadata": {
        "id": "axaqwfGgHEUD",
        "colab": {
          "base_uri": "https://localhost:8080/"
        },
        "outputId": "b8c3c52f-1466-459d-f4c3-2f3867d6d81b"
      },
      "execution_count": null,
      "outputs": [
        {
          "output_type": "stream",
          "name": "stdout",
          "text": [
            "(1168, 37)\n",
            "LotFrontage    212\n",
            "MasVnrArea       6\n",
            "GarageYrBlt     58\n",
            "dtype: int64\n"
          ]
        }
      ]
    },
    {
      "cell_type": "markdown",
      "source": [
        "LotFrontage, MasVnrArea, GarageYrBlt에서 결측값을 확인할 수 있다. \n",
        "\n",
        "- LotFrontage, MasVnrArea, GarageYrBlt:  관련한 다른 feature들에는 값이 존재하므로 extansion이 필요하진 않다. \n",
        "\n",
        "\n",
        "---\n",
        "\n",
        "\n",
        "\n",
        "### imputation을 이용하여 결측값 처리\n",
        "\n",
        "\n",
        "\n",
        "\n",
        "\n"
      ],
      "metadata": {
        "id": "7mgLkefYHy8T"
      }
    },
    {
      "cell_type": "code",
      "source": [
        "from sklearn.ensemble import RandomForestRegressor\n",
        "from sklearn.metrics import mean_absolute_error\n",
        "\n",
        "# Function for comparing different approaches\n",
        "def score_dataset(X_train, X_valid, y_train, y_valid):\n",
        "    model = RandomForestRegressor(n_estimators=10, random_state=0)\n",
        "    model.fit(X_train, y_train)\n",
        "    preds = model.predict(X_valid)\n",
        "    return mean_absolute_error(y_valid, preds)"
      ],
      "metadata": {
        "id": "T64fcfKRbcKk"
      },
      "execution_count": null,
      "outputs": []
    },
    {
      "cell_type": "code",
      "source": [
        "from sklearn.impute import SimpleImputer\n",
        "\n",
        "imputer = SimpleImputer()\n",
        "imputed_X_train = pd.DataFrame(imputer.fit_transform(X_train))\n",
        "imputed_X_valid = pd.DataFrame(imputer.transform(X_valid))\n",
        "\n",
        "imputed_X_train.columns = X_train.columns\n",
        "imputed_X_valid.columns = X_valid.columns"
      ],
      "metadata": {
        "id": "0wphYk51KYpi"
      },
      "execution_count": null,
      "outputs": []
    },
    {
      "cell_type": "code",
      "source": [
        "print(score_dataset(imputed_X_train, imputed_X_valid, y_train, y_valid))"
      ],
      "metadata": {
        "colab": {
          "base_uri": "https://localhost:8080/"
        },
        "id": "5iLjtDOSdPU3",
        "outputId": "0064cc92-d183-4043-9eea-a85a234100f6"
      },
      "execution_count": null,
      "outputs": [
        {
          "output_type": "stream",
          "name": "stdout",
          "text": [
            "19243.57294520548\n"
          ]
        }
      ]
    },
    {
      "cell_type": "markdown",
      "source": [
        "처리한 데이터 전체를 넣어서 모델을 확인한다."
      ],
      "metadata": {
        "id": "U1zXtkrseGdv"
      }
    },
    {
      "cell_type": "code",
      "source": [
        "from sklearn.ensemble import RandomForestRegressor\n",
        "estimat_num = [10,100,200,500,1000]\n",
        "for e in estimat_num:\n",
        "  choosing_final_model = RandomForestRegressor(n_estimators = e, min_samples_split = 20)\n",
        "  choosing_final_model.fit(imputed_X_train, y_train)\n",
        "  preds = choosing_final_model.predict(imputed_X_valid)\n",
        "  print(mean_absolute_error(y_valid, preds))\n",
        "\n",
        "best_esti = 200"
      ],
      "metadata": {
        "colab": {
          "base_uri": "https://localhost:8080/"
        },
        "id": "BAtcKjV6eU_l",
        "outputId": "e398c7f5-61cc-442a-c348-c43d3a2963c8"
      },
      "execution_count": null,
      "outputs": [
        {
          "output_type": "stream",
          "name": "stdout",
          "text": [
            "19249.771337427366\n",
            "18575.617623673406\n",
            "18463.079706955625\n",
            "18367.530847545782\n",
            "18515.918228043913\n"
          ]
        }
      ]
    },
    {
      "cell_type": "code",
      "source": [
        "split_num = [10,100,200,500,1000]\n",
        "for e in estimat_num:\n",
        "  choosing_final_model = RandomForestRegressor(n_estimators = best_esti, min_samples_split = e)\n",
        "  choosing_final_model.fit(imputed_X_train, y_train)\n",
        "  preds = choosing_final_model.predict(imputed_X_valid)\n",
        "  print(mean_absolute_error(y_valid, preds))\n",
        "best_split = 10"
      ],
      "metadata": {
        "id": "oJwPwRiZgFaL",
        "colab": {
          "base_uri": "https://localhost:8080/"
        },
        "outputId": "895b95bd-e3f3-418c-c788-718809f1bded"
      },
      "execution_count": null,
      "outputs": [
        {
          "output_type": "stream",
          "name": "stdout",
          "text": [
            "18167.567092837933\n",
            "23634.45953471177\n",
            "28961.41019938502\n",
            "34756.79785886537\n",
            "57062.02020635906\n"
          ]
        }
      ]
    },
    {
      "cell_type": "code",
      "source": [
        "imputer = SimpleImputer()\n",
        "imputed_X = pd.DataFrame(imputer.fit_transform(X))\n",
        "\n",
        "final_model = RandomForestRegressor(n_estimators = best_esti, min_samples_split = best_split)\n",
        "final_model.fit(imputed_X, y)"
      ],
      "metadata": {
        "colab": {
          "base_uri": "https://localhost:8080/"
        },
        "id": "X2WPbHu2ONu1",
        "outputId": "a0bd846e-c5d8-4e27-e518-4a01bf106f3e"
      },
      "execution_count": null,
      "outputs": [
        {
          "output_type": "execute_result",
          "data": {
            "text/plain": [
              "RandomForestRegressor(min_samples_split=10, n_estimators=200)"
            ]
          },
          "metadata": {},
          "execution_count": 27
        }
      ]
    },
    {
      "cell_type": "code",
      "source": [
        "imputed_X_test = pd.DataFrame(imputer.fit_transform(X_test))\n",
        "\n",
        "# Generate test predictions\n",
        "preds_test = final_model.predict(imputed_X_test)\n",
        "\n",
        "# Save predictions in format used for competition scoring\n",
        "output = pd.DataFrame({'Id': X_test.Id,\n",
        "                       'SalePrice': preds_test})\n",
        "output.to_csv('result3.csv', index=False)"
      ],
      "metadata": {
        "id": "h3VsEREpLIpR"
      },
      "execution_count": null,
      "outputs": []
    }
  ]
}
