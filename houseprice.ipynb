{
  "nbformat": 4,
  "nbformat_minor": 0,
  "metadata": {
    "colab": {
      "name": "houseprice.ipynb",
      "provenance": [],
      "collapsed_sections": [],
      "authorship_tag": "ABX9TyOtgIZN7fjzBKu7M9tcMNiz",
      "include_colab_link": true
    },
    "kernelspec": {
      "name": "python3",
      "display_name": "Python 3"
    },
    "language_info": {
      "name": "python"
    }
  },
  "cells": [
    {
      "cell_type": "markdown",
      "metadata": {
        "id": "view-in-github",
        "colab_type": "text"
      },
      "source": [
        "<a href=\"https://colab.research.google.com/github/E-xxi/kaggle_house-price/blob/data_observe/houseprice.ipynb\" target=\"_parent\"><img src=\"https://colab.research.google.com/assets/colab-badge.svg\" alt=\"Open In Colab\"/></a>"
      ]
    },
    {
      "cell_type": "markdown",
      "source": [
        "# **House Prices - Advanced Regression Techniques**\n",
        "sale prices를 예측하는 것이 주제이다.\n",
        "\n",
        "\n"
      ],
      "metadata": {
        "id": "jYvzKVCykKf-"
      }
    },
    {
      "cell_type": "markdown",
      "source": [
        "우선 데이터의 형태를 관찰해보도록 한다. "
      ],
      "metadata": {
        "id": "uKs-V45nk9wT"
      }
    },
    {
      "cell_type": "markdown",
      "source": [
        "# 파일 다운로드 및 실행"
      ],
      "metadata": {
        "id": "vaBFL34cN88d"
      }
    },
    {
      "cell_type": "code",
      "execution_count": 1,
      "metadata": {
        "id": "Nbl_HGoTj3UX",
        "colab": {
          "base_uri": "https://localhost:8080/",
          "height": 72
        },
        "outputId": "a92c3626-2963-4464-aeb9-a41fd65501e2"
      },
      "outputs": [
        {
          "output_type": "stream",
          "name": "stdout",
          "text": [
            "Mounted at /content/gdrive\n",
            "/content/gdrive/My Drive/Kaggle\n"
          ]
        },
        {
          "output_type": "execute_result",
          "data": {
            "text/plain": [
              "'/content/gdrive/My Drive/Kaggle'"
            ],
            "application/vnd.google.colaboratory.intrinsic+json": {
              "type": "string"
            }
          },
          "metadata": {},
          "execution_count": 1
        }
      ],
      "source": [
        "from google.colab import drive\n",
        "drive.mount('/content/gdrive')\n",
        "\n",
        "import os\n",
        "os.environ['KAGGLE_CONFIG_DIR'] = \"/content/gdrive/My Drive/Kaggle\"\n",
        "\n",
        "%cd /content/gdrive/My Drive/Kaggle\n",
        "%pwd\n"
      ]
    },
    {
      "cell_type": "code",
      "source": [
        "!kaggle competitions download -c house-prices-advanced-regression-techniques\n",
        "!ls\n",
        "\n",
        "%mkdir input/house-price"
      ],
      "metadata": {
        "colab": {
          "base_uri": "https://localhost:8080/"
        },
        "id": "iPTCGoGwlgoW",
        "outputId": "86c1d7ce-6ac7-4364-c66a-c74a498109c3"
      },
      "execution_count": null,
      "outputs": [
        {
          "output_type": "stream",
          "name": "stdout",
          "text": [
            "Downloading house-prices-advanced-regression-techniques.zip to /content/gdrive/My Drive/Kaggle\n",
            "\r  0% 0.00/199k [00:00<?, ?B/s]\n",
            "\r100% 199k/199k [00:00<00:00, 20.8MB/s]\n",
            "house-prices-advanced-regression-techniques.zip  kaggle.json\n",
            "input\t\t\t\t\t\t lecture07_Project02_2020113677\n",
            "mv: cannot stat 'house-prices-advanced-regression-techniques': No such file or directory\n"
          ]
        }
      ]
    },
    {
      "cell_type": "code",
      "source": [
        "%mv house-prices-advanced-regression-techniques.zip input/house-price\n",
        "%cd input/house-price/\n",
        "\n",
        "!unzip \\*.zip  && rm *.zip"
      ],
      "metadata": {
        "colab": {
          "base_uri": "https://localhost:8080/"
        },
        "id": "dyVTlLw-mLN-",
        "outputId": "bdb8245e-41b5-4a05-b1e6-ffdcce50cefa"
      },
      "execution_count": null,
      "outputs": [
        {
          "output_type": "stream",
          "name": "stdout",
          "text": [
            "/content/gdrive/MyDrive/Kaggle/input/house-price\n",
            "Archive:  house-prices-advanced-regression-techniques.zip\n",
            "  inflating: data_description.txt    \n",
            "  inflating: sample_submission.csv   \n",
            "  inflating: test.csv                \n",
            "  inflating: train.csv               \n"
          ]
        }
      ]
    },
    {
      "cell_type": "markdown",
      "source": [
        "# House Price 데이터 관찰하기"
      ],
      "metadata": {
        "id": "2z9j0D9Wma6l"
      }
    },
    {
      "cell_type": "code",
      "source": [
        "import numpy as np # linear algebra\n",
        "import pandas as pd # data processing, CSV file I/O (e.g. pd.read_csv)\n",
        "import matplotlib.pyplot as plt\n",
        "import seaborn as sns\n",
        "\n",
        "import os\n",
        "for dirname, _, filenames in os.walk('/content/gdrive/My Drive/Kaggle/input/house-price'):\n",
        "    for filename in filenames:\n",
        "        print(os.path.join(dirname, filename))\n",
        "\n",
        "%pwd"
      ],
      "metadata": {
        "colab": {
          "base_uri": "https://localhost:8080/",
          "height": 108
        },
        "id": "fSa4ZcFLmaGw",
        "outputId": "6a391421-88d0-48ab-8508-cf7651c56beb"
      },
      "execution_count": 5,
      "outputs": [
        {
          "output_type": "stream",
          "name": "stdout",
          "text": [
            "/content/gdrive/My Drive/Kaggle/input/house-price/test.csv\n",
            "/content/gdrive/My Drive/Kaggle/input/house-price/train.csv\n",
            "/content/gdrive/My Drive/Kaggle/input/house-price/data_description.txt\n",
            "/content/gdrive/My Drive/Kaggle/input/house-price/sample_submission.csv\n"
          ]
        },
        {
          "output_type": "execute_result",
          "data": {
            "text/plain": [
              "'/content/gdrive/My Drive/Kaggle/input/house-price'"
            ],
            "application/vnd.google.colaboratory.intrinsic+json": {
              "type": "string"
            }
          },
          "metadata": {},
          "execution_count": 5
        }
      ]
    },
    {
      "cell_type": "code",
      "source": [
        "%cd input/house-price/\n",
        "\n",
        "data = pd.read_csv('train.csv')\n",
        "#data.info()"
      ],
      "metadata": {
        "id": "Fdc5hdj7myRH",
        "colab": {
          "base_uri": "https://localhost:8080/"
        },
        "outputId": "c40f2b0d-e38d-4244-a40c-7193fc071687"
      },
      "execution_count": 6,
      "outputs": [
        {
          "output_type": "stream",
          "name": "stdout",
          "text": [
            "[Errno 2] No such file or directory: 'input/house-price/'\n",
            "/content/gdrive/MyDrive/Kaggle/input/house-price\n"
          ]
        }
      ]
    },
    {
      "cell_type": "markdown",
      "source": [
        "전체 칼럼을 확인해보면서 특정 유형이 90%이상의 비율을 차지하는 칼럼이 있는지 확인한다.\n",
        "\n",
        "이것을 확인하는 이유는 반드시 필수적으로 필요한 부분이 무엇인지 그리고 굳이 고려할 필요가 없는 칼럼이 무엇이 있는지를 확인하기 위함이다.\n",
        "\n",
        "- Dtype이 object 인 경우만 우선 고려하겠다."
      ],
      "metadata": {
        "id": "00egaZ2mm4Nk"
      }
    },
    {
      "cell_type": "markdown",
      "source": [
        "값 전체에 대해 90프로를 차지하는 것을 확인한다."
      ],
      "metadata": {
        "id": "U56XYv6UuetX"
      }
    },
    {
      "cell_type": "code",
      "source": [
        "#DType이 object인 경우\n",
        "\n",
        "overallMaj = pd.DataFrame()\n",
        "for c in list(data.columns):\n",
        "  if data[c].dtype != 'object':\n",
        "    continue\n",
        "\n",
        "  #특정요소가 라인의 90프로 이상을 차지한다면 출력\n",
        "  for k in data[c].value_counts().values:\n",
        "    if k >= data[c].count() * 0.9:\n",
        "      new = {'title': c, 'val' : data[c].value_counts().keys()[0], 'cnt': k}\n",
        "      overallMaj = overallMaj.append(new, ignore_index = True)\n",
        "\n",
        "print(overallMaj)\n"
      ],
      "metadata": {
        "id": "pRpbbvjqrwLh",
        "colab": {
          "base_uri": "https://localhost:8080/"
        },
        "outputId": "ece6fa74-c5f9-473d-d1b2-1c6e32ad367d"
      },
      "execution_count": 7,
      "outputs": [
        {
          "output_type": "stream",
          "name": "stdout",
          "text": [
            "          title      val     cnt\n",
            "0        Street     Pave  1454.0\n",
            "1     Utilities   AllPub  1459.0\n",
            "2     LandSlope      Gtl  1382.0\n",
            "3    Condition2     Norm  1445.0\n",
            "4      RoofMatl  CompShg  1434.0\n",
            "5      BsmtCond       TA  1311.0\n",
            "6       Heating     GasA  1428.0\n",
            "7    CentralAir        Y  1365.0\n",
            "8    Electrical    SBrkr  1334.0\n",
            "9    Functional      Typ  1360.0\n",
            "10   GarageQual       TA  1311.0\n",
            "11   GarageCond       TA  1326.0\n",
            "12   PavedDrive        Y  1340.0\n",
            "13  MiscFeature     Shed    49.0\n"
          ]
        }
      ]
    },
    {
      "cell_type": "markdown",
      "source": [
        "상위 10프로에게도 같은 경향성이 보이는지 확인하도록 한다. "
      ],
      "metadata": {
        "id": "R_ys35G_rGO0"
      }
    },
    {
      "cell_type": "code",
      "source": [
        "sData = data.sort_values(by = ['SalePrice'],ascending=False)\n",
        "sData = sData.reset_index(drop=True)\n",
        "\n",
        "sData\n",
        "upper10p = sData.loc[0:data[c].count() * 0.1]\n",
        "\n",
        "upper10Maj = pd.DataFrame()\n",
        "for c in list(upper10p.columns):\n",
        "  if upper10p[c].dtype != 'object':\n",
        "    continue\n",
        "\n",
        "  #특정요소가 라인의 90프로 이상을 차지한다면 출력\n",
        "  for k in upper10p[c].value_counts().values:\n",
        "    if k >= upper10p[c].count() * 0.9:\n",
        "      new = {'title': c, 'val' : upper10p[c].value_counts().keys()[0], 'cnt': k}\n",
        "      upper10Maj = upper10Maj.append(new, ignore_index = True)\n",
        "\n",
        "print(upper10Maj)"
      ],
      "metadata": {
        "colab": {
          "base_uri": "https://localhost:8080/"
        },
        "id": "sXDo0NWqm3fG",
        "outputId": "5e995b70-5d99-4fb2-cf7e-79eea1872560"
      },
      "execution_count": 8,
      "outputs": [
        {
          "output_type": "stream",
          "name": "stdout",
          "text": [
            "           title      val    cnt\n",
            "0       MSZoning       RL  137.0\n",
            "1         Street     Pave  147.0\n",
            "2      Utilities   AllPub  147.0\n",
            "3      LandSlope      Gtl  136.0\n",
            "4     Condition1     Norm  137.0\n",
            "5     Condition2     Norm  145.0\n",
            "6       BldgType     1Fam  139.0\n",
            "7       RoofMatl  CompShg  141.0\n",
            "8      ExterCond       TA  138.0\n",
            "9       BsmtCond       TA  136.0\n",
            "10  BsmtFinType2      Unf  138.0\n",
            "11       Heating     GasA  146.0\n",
            "12    CentralAir        Y  147.0\n",
            "13    Electrical    SBrkr  147.0\n",
            "14    Functional      Typ  144.0\n",
            "15    GarageQual       TA  143.0\n",
            "16    GarageCond       TA  146.0\n",
            "17    PavedDrive        Y  147.0\n",
            "18        PoolQC       Ex    1.0\n"
          ]
        }
      ]
    },
    {
      "cell_type": "markdown",
      "source": [
        "데이터 전체에서 확인한 값고 sale price 상위 10프로에서 확인한 값이 서로 다른 경우가 있다. 이부분을 우선 살펴보겠다.\n"
      ],
      "metadata": {
        "id": "FLaEl8CBuuXn"
      }
    },
    {
      "cell_type": "code",
      "source": [
        "#내가 하고싶은건 Col을 두개 합친걸로 만들고\n",
        "# allval uppval 해서 값 확인하기 \n",
        "\n",
        "majDiff = pd.DataFrame()\n",
        "#overllMaj와 upper10Maj의 Col을 모아서 차이가 있는지 dataframe으로 만들기\n",
        "colSum = set(list(overallMaj['title'].values) + list(upper10Maj['title'].values))\n",
        "\n",
        "#print(len(colSum))\n",
        "\n",
        "#두 데이터프레임을 합친다.\n",
        "\n",
        "for c in colSum:\n",
        "  o = len(colSum)\n",
        "  u = len(colSum)\n",
        "  if c in overallMaj['title'].values:\n",
        "    o = overallMaj[(overallMaj['title'] == c)].index.tolist()[0]\n",
        "  if c in upper10Maj['title'].values:\n",
        "    u = upper10Maj[(upper10Maj['title'] == c)].index.tolist()[0]\n",
        "    \n",
        "  new = {'title': c, 'allVal' : overallMaj.iat[o, 1] if o != len(colSum) else np.nan, 'uppVal': upper10Maj.iat[u, 1] if u != len(colSum) else np.nan}\n",
        "  majDiff = majDiff.append(new, ignore_index = True)\n",
        "\n",
        "\n",
        "#print(majDiff)\n",
        "print(majDiff.dropna(axis=0))\n",
        "print()\n",
        "print(majDiff[['title','uppVal']].dropna())\n",
        "\n"
      ],
      "metadata": {
        "colab": {
          "base_uri": "https://localhost:8080/"
        },
        "id": "QMj6XD0WtPGt",
        "outputId": "8ab79efa-929c-4fdb-d59d-daa02cd1b33f"
      },
      "execution_count": 9,
      "outputs": [
        {
          "output_type": "stream",
          "name": "stdout",
          "text": [
            "         title   allVal   uppVal\n",
            "0     RoofMatl  CompShg  CompShg\n",
            "1   GarageCond       TA       TA\n",
            "2   PavedDrive        Y        Y\n",
            "3   Condition2     Norm     Norm\n",
            "4   Functional      Typ      Typ\n",
            "7   Electrical    SBrkr    SBrkr\n",
            "10   LandSlope      Gtl      Gtl\n",
            "11    BsmtCond       TA       TA\n",
            "12   Utilities   AllPub   AllPub\n",
            "13  CentralAir        Y        Y\n",
            "14     Heating     GasA     GasA\n",
            "15      Street     Pave     Pave\n",
            "17  GarageQual       TA       TA\n",
            "\n",
            "           title   uppVal\n",
            "0       RoofMatl  CompShg\n",
            "1     GarageCond       TA\n",
            "2     PavedDrive        Y\n",
            "3     Condition2     Norm\n",
            "4     Functional      Typ\n",
            "5      ExterCond       TA\n",
            "6     Condition1     Norm\n",
            "7     Electrical    SBrkr\n",
            "8       BldgType     1Fam\n",
            "9         PoolQC       Ex\n",
            "10     LandSlope      Gtl\n",
            "11      BsmtCond       TA\n",
            "12     Utilities   AllPub\n",
            "13    CentralAir        Y\n",
            "14       Heating     GasA\n",
            "15        Street     Pave\n",
            "17    GarageQual       TA\n",
            "18      MSZoning       RL\n",
            "19  BsmtFinType2      Unf\n"
          ]
        }
      ]
    },
    {
      "cell_type": "markdown",
      "source": [
        "상위 10프로와 전체에서 공통적으로 높게 나타나는 선호도\n",
        "\n",
        "---\n",
        "\n",
        "Utilities(접근가능한 public utility - 전기, 가스, 물 등) : AllPub\n",
        "\n",
        "Functional(집 기능): Typ\n",
        "\n",
        "GarageCond: TA(Typical,Average)\n",
        "\n",
        "CentralAir(중앙냉방): Y\n",
        "\n",
        "Heating(난방종류): GasA\n",
        "\n",
        "Electrical(전기): SBrkr(standard)\n",
        "\n",
        "LandSlope(기울기):Gtl(gentle slope)\n",
        "\n",
        "BsmtCond: TA\n",
        "\n",
        "PavedDrive: Y\n",
        "\n",
        "Condition2: Norm(normal)\n",
        "\n",
        "RoofMatl(지붕재료): standard Shingle\n",
        "\n",
        "GarageQual: TA\n",
        "\n",
        "Street(건물에 접근하는 길 종류) : pave\n",
        "\n",
        "\n",
        "\n"
      ],
      "metadata": {
        "id": "Hsb0_c200dji"
      }
    },
    {
      "cell_type": "markdown",
      "source": [
        "상위 10프로에만 나타나는 높은 선호도\n",
        "\n",
        "\n",
        "---\n",
        "\n",
        "*PoolQC는 데이터값이 1개이므로 제외하도록 한다\n",
        "\n",
        "MSZoning: RL\n",
        "\n",
        "BldgType: 1Fam\n",
        "\n",
        "BsmtFinType2: Unf\n",
        "\n",
        "Condition1: Norm\n",
        "\n",
        "ExterCond: TA\n",
        "\n",
        "\n",
        "가격이 높을수록 어떠한 선호도가 올라가는지 알아보자\n"
      ],
      "metadata": {
        "id": "O89xVJgL5UQS"
      }
    },
    {
      "cell_type": "markdown",
      "source": [
        "# 경향성 파악"
      ],
      "metadata": {
        "id": "d_1r7BmsOKVc"
      }
    },
    {
      "cell_type": "markdown",
      "source": [
        "## 판매 유형에 따른 경향성\n"
      ],
      "metadata": {
        "id": "YidYQkX86bov"
      }
    },
    {
      "cell_type": "code",
      "source": [
        "sns.pointplot(data = sData, x = 'MSZoning',y = 'SalePrice', hue = 'MSZoning')"
      ],
      "metadata": {
        "colab": {
          "base_uri": "https://localhost:8080/",
          "height": 297
        },
        "id": "yHUL7QdDwyaQ",
        "outputId": "b94c61c7-6d07-45ed-d489-c46717d0a1f2"
      },
      "execution_count": null,
      "outputs": [
        {
          "output_type": "execute_result",
          "data": {
            "text/plain": [
              "<matplotlib.axes._subplots.AxesSubplot at 0x7f85cf29cf10>"
            ]
          },
          "metadata": {},
          "execution_count": 19
        },
        {
          "output_type": "display_data",
          "data": {
            "text/plain": [
              "<Figure size 432x288 with 1 Axes>"
            ],
            "image/png": "[encoded data removed]"
          },
          "metadata": {
            "needs_background": "light"
          }
        }
      ]
    },
    {
      "cell_type": "markdown",
      "source": [
        "RM과 RH의 정확한 비교를 위해 두 데이터 값만 따로 비교해보도록 하자"
      ],
      "metadata": {
        "id": "wvbPOS3CyOSP"
      }
    },
    {
      "cell_type": "code",
      "source": [
        "MSZoningD = sData[['MSZoning','SalePrice']]\n",
        "condition = (MSZoningD['MSZoning'] == 'RM') | (MSZoningD['MSZoning'] == 'RH')\n",
        "compRmrh = sData[condition]\n",
        "\n",
        "sns.pointplot(data = compRmrh, x = 'MSZoning',y = 'SalePrice', hue = 'MSZoning')"
      ],
      "metadata": {
        "colab": {
          "base_uri": "https://localhost:8080/",
          "height": 297
        },
        "id": "FZMwy7bEx7Ai",
        "outputId": "5ca9069a-02b2-4367-d4cf-1fc9ac299a20"
      },
      "execution_count": 17,
      "outputs": [
        {
          "output_type": "execute_result",
          "data": {
            "text/plain": [
              "<matplotlib.axes._subplots.AxesSubplot at 0x7fc985aafb50>"
            ]
          },
          "metadata": {},
          "execution_count": 17
        },
        {
          "output_type": "display_data",
          "data": {
            "text/plain": [
              "<Figure size 432x288 with 1 Axes>"
            ],
            "image/png": "[encoded data removed]"
          },
          "metadata": {
            "needs_background": "light"
          }
        }
      ]
    },
    {
      "cell_type": "markdown",
      "source": [
        "유형별 가격차이가 크게 나는것을 확인할 수 있고 \n",
        "pointplot으로 확인해본 결과 평균값이 높은 순으로 정렬하면 \n",
        "\n",
        "\n",
        "---\n",
        "\n",
        "\n",
        "### C < RM < RH < RL < FV 순으로 가격이 상승하는 것을 볼 수 있다."
      ],
      "metadata": {
        "id": "A1WjbSL0xyf9"
      }
    },
    {
      "cell_type": "markdown",
      "source": [
        "## 거주지 유형에 따른 경향성"
      ],
      "metadata": {
        "id": "6Ii6RCjaMpQ6"
      }
    },
    {
      "cell_type": "code",
      "source": [
        "BldgTypeD = sData[['BldgType','SalePrice']]\n",
        "\n",
        "sns.pointplot(data = sData, x = 'BldgType',y = 'SalePrice', hue = 'BldgType')"
      ],
      "metadata": {
        "colab": {
          "base_uri": "https://localhost:8080/",
          "height": 297
        },
        "id": "qvj6YZ_vNrJ7",
        "outputId": "fc851979-7cf7-4bbf-8f7f-79bd96892a7f"
      },
      "execution_count": null,
      "outputs": [
        {
          "output_type": "execute_result",
          "data": {
            "text/plain": [
              "<matplotlib.axes._subplots.AxesSubplot at 0x7f85cecef6d0>"
            ]
          },
          "metadata": {},
          "execution_count": 20
        },
        {
          "output_type": "display_data",
          "data": {
            "text/plain": [
              "<Figure size 432x288 with 1 Axes>"
            ],
            "image/png": "[encoded data removed]"
          },
          "metadata": {
            "needs_background": "light"
          }
        }
      ]
    },
    {
      "cell_type": "markdown",
      "source": [
        "## Second finished area 2에 따른 경향성\n",
        "\n",
        "Na가 포함된 데이터이지만 Na 도 포함시켜 second finished area2 자체의 존재도 가격형성에 영향을 미치는지 알아본다"
      ],
      "metadata": {
        "id": "gP_qqU1_OXmE"
      }
    },
    {
      "cell_type": "code",
      "source": [
        "BsmtFin2D = sData[['BsmtFinType2','SalePrice']]\n",
        "\n",
        "BsmtFin2D['BsmtFinType2']=BsmtFin2D['BsmtFinType2'].fillna(\"None\")"
      ],
      "metadata": {
        "id": "nKfsLGs3b5aF"
      },
      "execution_count": null,
      "outputs": []
    },
    {
      "cell_type": "code",
      "source": [
        "sns.pointplot(data = BsmtFin2D, x = 'BsmtFinType2',y = 'SalePrice', hue = 'BsmtFinType2')"
      ],
      "metadata": {
        "id": "Uep1QpJywS6i",
        "colab": {
          "base_uri": "https://localhost:8080/",
          "height": 297
        },
        "outputId": "1d505f76-2277-4079-b721-8f1e57c1ca9b"
      },
      "execution_count": null,
      "outputs": [
        {
          "output_type": "execute_result",
          "data": {
            "text/plain": [
              "<matplotlib.axes._subplots.AxesSubplot at 0x7f60977d6050>"
            ]
          },
          "metadata": {},
          "execution_count": 23
        },
        {
          "output_type": "display_data",
          "data": {
            "text/plain": [
              "<Figure size 432x288 with 1 Axes>"
            ],
            "image/png": "[encoded data removed]"
          },
          "metadata": {
            "needs_background": "light"
          }
        }
      ]
    },
    {
      "cell_type": "markdown",
      "source": [
        "위의 그래프와 같이 second finished area2의 값이 존재하지 않는 경우 그 어떤 타입보다 낮은 가격을 형성하고 있다.\n",
        "\n"
      ],
      "metadata": {
        "id": "fNC3jXFPd3QX"
      }
    },
    {
      "cell_type": "code",
      "source": [
        "sns.pointplot(data = sData, x = 'BsmtFinType2',y = 'SalePrice', hue = 'BsmtFinType2')"
      ],
      "metadata": {
        "colab": {
          "base_uri": "https://localhost:8080/",
          "height": 297
        },
        "id": "a0t34RQMeLqE",
        "outputId": "304ea6c4-f6e6-4f9a-9fe8-b50ec24c065b"
      },
      "execution_count": null,
      "outputs": [
        {
          "output_type": "execute_result",
          "data": {
            "text/plain": [
              "<matplotlib.axes._subplots.AxesSubplot at 0x7f609764bc90>"
            ]
          },
          "metadata": {},
          "execution_count": 24
        },
        {
          "output_type": "display_data",
          "data": {
            "text/plain": [
              "<Figure size 432x288 with 1 Axes>"
            ],
            "image/png": "[encoded data removed]"
          },
          "metadata": {
            "needs_background": "light"
          }
        }
      ]
    },
    {
      "cell_type": "markdown",
      "source": [
        "ALQ와 GLQ 모두 심하게 분산되어 있음으로 outlier가 있는지 다른 그래프로 확인해보도록 한다."
      ],
      "metadata": {
        "id": "rf-UG4HmeX_K"
      }
    },
    {
      "cell_type": "code",
      "source": [
        "g = sns.JointGrid(x=sData['BsmtFinType2'], y = sData['SalePrice'])\n",
        "ax = g.plot(sns.swarmplot,sns.histplot)"
      ],
      "metadata": {
        "colab": {
          "base_uri": "https://localhost:8080/",
          "height": 534
        },
        "id": "WVowGZ2KlDTd",
        "outputId": "ea7ea424-34c4-46fd-cae7-756567f2e766"
      },
      "execution_count": 11,
      "outputs": [
        {
          "output_type": "stream",
          "name": "stderr",
          "text": [
            "/usr/local/lib/python3.7/dist-packages/seaborn/categorical.py:1296: UserWarning: 80.7% of the points cannot be placed; you may want to decrease the size of the markers or use stripplot.\n",
            "  warnings.warn(msg, UserWarning)\n",
            "/usr/local/lib/python3.7/dist-packages/seaborn/categorical.py:1296: UserWarning: 9.3% of the points cannot be placed; you may want to decrease the size of the markers or use stripplot.\n",
            "  warnings.warn(msg, UserWarning)\n"
          ]
        },
        {
          "output_type": "display_data",
          "data": {
            "text/plain": [
              "<Figure size 432x432 with 3 Axes>"
            ],
            "image/png": "[encoded data removed]"
          },
          "metadata": {
            "needs_background": "light"
          }
        }
      ]
    },
    {
      "cell_type": "markdown",
      "source": [
        "GLQ와 달리 AlQ는  500000이상에 Outlier가 있음으로 이 값을 제외하고 다시 그래프를 보이도록 한다."
      ],
      "metadata": {
        "id": "V3mODDq5lybW"
      }
    },
    {
      "cell_type": "code",
      "source": [
        "fixBsmt2D = sData[['BsmtFinType2', 'SalePrice']]\n",
        "cond1 = (fixBsmt2D.BsmtFinType2 == 'ALQ') & (fixBsmt2D.SalePrice < 500000)  #ALQ outlier제외\n",
        "cond2 = (fixBsmt2D.BsmtFinType2 != 'ALQ')\n",
        "fData = fixBsmt2D.loc[cond1 | cond2]\n",
        "\n",
        "sns.pointplot(data = fData, x = 'BsmtFinType2',y = 'SalePrice', hue = 'BsmtFinType2')"
      ],
      "metadata": {
        "colab": {
          "base_uri": "https://localhost:8080/",
          "height": 297
        },
        "id": "vM8qChYemK5U",
        "outputId": "6fcb21b6-009b-4d6d-b177-e721bc47f853"
      },
      "execution_count": 16,
      "outputs": [
        {
          "output_type": "execute_result",
          "data": {
            "text/plain": [
              "<matplotlib.axes._subplots.AxesSubplot at 0x7fc985cb7790>"
            ]
          },
          "metadata": {},
          "execution_count": 16
        },
        {
          "output_type": "display_data",
          "data": {
            "text/plain": [
              "<Figure size 432x288 with 1 Axes>"
            ],
            "image/png": "[encoded data removed]"
          },
          "metadata": {
            "needs_background": "light"
          }
        }
      ]
    },
    {
      "cell_type": "markdown",
      "source": [
        "outlier 제거하고 전과 다른 형태의 값의 분포를 확인할 수 있다. \n",
        "\n",
        "GLQ\tGood Living Quarters\n",
        "\n",
        "ALQ\tAverage Living Quarters\n",
        "\n",
        "BLQ\tBelow Average Living Quarters\t\n",
        "\n",
        "Rec\tAverage Rec Room\n",
        "\n",
        "LwQ\tLow Quality\n",
        "\n",
        "Unf\tUnfinshed\n",
        "\n",
        "\n",
        "\n",
        "---\n",
        "\n",
        "\n",
        "\n",
        "### BLQ < LwQ < Rec < GLQ < Unf < ALQ 순으로 가격이 상승한다.\n",
        "\n",
        "가장 좋은 퀄리티가 높은 가격형성을 이루는 것은 아니지만 Below Average 아래보다는 Unf, GLQ, ALQ가 높은 가격형성에 기여한다.\n",
        "\n",
        "\n"
      ],
      "metadata": {
        "id": "mn0eE8_woWLA"
      }
    },
    {
      "cell_type": "markdown",
      "source": [
        "## 다양한 도로와의 근접정도에 따른 경향성(Condition1)"
      ],
      "metadata": {
        "id": "u8txE9nlp-Yr"
      }
    },
    {
      "cell_type": "code",
      "source": [
        "sns.pointplot(data = sData, x = 'Condition1',y = 'SalePrice', hue = 'Condition1')"
      ],
      "metadata": {
        "colab": {
          "base_uri": "https://localhost:8080/",
          "height": 297
        },
        "id": "S7HScXVUqloi",
        "outputId": "38784d55-4607-4b6d-d5cd-9647fa3602eb"
      },
      "execution_count": 18,
      "outputs": [
        {
          "output_type": "execute_result",
          "data": {
            "text/plain": [
              "<matplotlib.axes._subplots.AxesSubplot at 0x7fc985e75dd0>"
            ]
          },
          "metadata": {},
          "execution_count": 18
        },
        {
          "output_type": "display_data",
          "data": {
            "text/plain": [
              "<Figure size 432x288 with 1 Axes>"
            ],
            "image/png": "[encoded data removed]"
          },
          "metadata": {
            "needs_background": "light"
          }
        }
      ]
    },
    {
      "cell_type": "markdown",
      "source": [
        "분산정도가 큼으로 outlier가 있을 확률이 높고 IQR방식을 사용해 정리해주도록한다. "
      ],
      "metadata": {
        "id": "mmXx2uwNrmUw"
      }
    },
    {
      "cell_type": "code",
      "source": [
        "def remv_outlier(data):\n",
        "    Q1 = data.quantile[0.25]\n",
        "    Q3 = data.quantile[0.75]\n",
        "    IQR= Q3 - Q1\n",
        "    return pd.DataFrame([[Q1-(1.5*IQR), Q3+(1.5*IQR)]]*data.shape[0], \n",
        "                        columns=['lower', 'upper'], \n",
        "                        index=data.index)"
      ],
      "metadata": {
        "id": "Fe5yD8S0xHK_"
      },
      "execution_count": 28,
      "outputs": []
    },
    {
      "cell_type": "code",
      "source": [
        "con1D = sData[['Condition1','SalePrice']]\n",
        "fixcon1D = remv_outlier(con1D)\n",
        "\n",
        "sns.pointplot(data = fixcon1D, x = 'Condition1',y = 'SalePrice', hue = 'Condition1')"
      ],
      "metadata": {
        "id": "U2oCWYahr8Z1"
      },
      "execution_count": null,
      "outputs": []
    },
    {
      "cell_type": "markdown",
      "source": [
        ""
      ],
      "metadata": {
        "id": "bdji2UGBroon"
      }
    },
    {
      "cell_type": "markdown",
      "source": [
        "ExterCond: TA"
      ],
      "metadata": {
        "id": "4GwcdZWxqAYO"
      }
    }
  ]
}