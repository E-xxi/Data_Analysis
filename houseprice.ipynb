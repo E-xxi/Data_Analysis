{
  "nbformat": 4,
  "nbformat_minor": 0,
  "metadata": {
    "colab": {
      "name": "houseprice.ipynb",
      "provenance": [],
      "collapsed_sections": [
        "vaBFL34cN88d"
      ],
      "authorship_tag": "ABX9TyOjr1BMjVRCTUhzxm6bwZqA",
      "include_colab_link": true
    },
    "kernelspec": {
      "name": "python3",
      "display_name": "Python 3"
    },
    "language_info": {
      "name": "python"
    }
  },
  "cells": [
    {
      "cell_type": "markdown",
      "metadata": {
        "id": "view-in-github",
        "colab_type": "text"
      },
      "source": [
        "<a href=\"https://colab.research.google.com/github/E-xxi/kaggle_house-price/blob/data_observe/houseprice.ipynb\" target=\"_parent\"><img src=\"https://colab.research.google.com/assets/colab-badge.svg\" alt=\"Open In Colab\"/></a>"
      ]
    },
    {
      "cell_type": "markdown",
      "source": [
        "# **House Prices - Advanced Regression Techniques**\n",
        "sale prices를 예측하는 것이 주제이다.\n",
        "\n",
        "\n"
      ],
      "metadata": {
        "id": "jYvzKVCykKf-"
      }
    },
    {
      "cell_type": "markdown",
      "source": [
        "우선 데이터의 형태를 관찰해보도록 한다. "
      ],
      "metadata": {
        "id": "uKs-V45nk9wT"
      }
    },
    {
      "cell_type": "markdown",
      "source": [
        "# 파일 다운로드 및 실행"
      ],
      "metadata": {
        "id": "vaBFL34cN88d"
      }
    },
    {
      "cell_type": "code",
      "execution_count": null,
      "metadata": {
        "id": "Nbl_HGoTj3UX",
        "colab": {
          "base_uri": "https://localhost:8080/",
          "height": 72
        },
        "outputId": "a9e23ae2-c19f-47f4-9cf6-b32c6cbc9033"
      },
      "outputs": [
        {
          "output_type": "stream",
          "name": "stdout",
          "text": [
            "Mounted at /content/gdrive\n",
            "/content/gdrive/My Drive/Kaggle\n"
          ]
        },
        {
          "output_type": "execute_result",
          "data": {
            "text/plain": [
              "'/content/gdrive/My Drive/Kaggle'"
            ],
            "application/vnd.google.colaboratory.intrinsic+json": {
              "type": "string"
            }
          },
          "metadata": {},
          "execution_count": 1
        }
      ],
      "source": [
        "from google.colab import drive\n",
        "drive.mount('/content/gdrive')\n",
        "\n",
        "import os\n",
        "os.environ['KAGGLE_CONFIG_DIR'] = \"/content/gdrive/My Drive/Kaggle\"\n",
        "\n",
        "%cd /content/gdrive/My Drive/Kaggle\n",
        "%pwd\n"
      ]
    },
    {
      "cell_type": "code",
      "source": [
        "!kaggle competitions download -c house-prices-advanced-regression-techniques\n",
        "!ls\n",
        "\n",
        "%mkdir input/house-price"
      ],
      "metadata": {
        "colab": {
          "base_uri": "https://localhost:8080/"
        },
        "id": "iPTCGoGwlgoW",
        "outputId": "86c1d7ce-6ac7-4364-c66a-c74a498109c3"
      },
      "execution_count": null,
      "outputs": [
        {
          "output_type": "stream",
          "name": "stdout",
          "text": [
            "Downloading house-prices-advanced-regression-techniques.zip to /content/gdrive/My Drive/Kaggle\n",
            "\r  0% 0.00/199k [00:00<?, ?B/s]\n",
            "\r100% 199k/199k [00:00<00:00, 20.8MB/s]\n",
            "house-prices-advanced-regression-techniques.zip  kaggle.json\n",
            "input\t\t\t\t\t\t lecture07_Project02_2020113677\n",
            "mv: cannot stat 'house-prices-advanced-regression-techniques': No such file or directory\n"
          ]
        }
      ]
    },
    {
      "cell_type": "code",
      "source": [
        "%mv house-prices-advanced-regression-techniques.zip input/house-price\n",
        "%cd input/house-price/\n",
        "\n",
        "!unzip \\*.zip  && rm *.zip"
      ],
      "metadata": {
        "colab": {
          "base_uri": "https://localhost:8080/"
        },
        "id": "dyVTlLw-mLN-",
        "outputId": "bdb8245e-41b5-4a05-b1e6-ffdcce50cefa"
      },
      "execution_count": null,
      "outputs": [
        {
          "output_type": "stream",
          "name": "stdout",
          "text": [
            "/content/gdrive/MyDrive/Kaggle/input/house-price\n",
            "Archive:  house-prices-advanced-regression-techniques.zip\n",
            "  inflating: data_description.txt    \n",
            "  inflating: sample_submission.csv   \n",
            "  inflating: test.csv                \n",
            "  inflating: train.csv               \n"
          ]
        }
      ]
    },
    {
      "cell_type": "markdown",
      "source": [
        "# House Price 데이터 관찰하기"
      ],
      "metadata": {
        "id": "2z9j0D9Wma6l"
      }
    },
    {
      "cell_type": "code",
      "source": [
        "import numpy as np # linear algebra\n",
        "import pandas as pd # data processing, CSV file I/O (e.g. pd.read_csv)\n",
        "import matplotlib.pyplot as plt\n",
        "import seaborn as sns\n",
        "\n",
        "import os\n",
        "for dirname, _, filenames in os.walk('/content/gdrive/My Drive/Kaggle/input/house-price'):\n",
        "    for filename in filenames:\n",
        "        print(os.path.join(dirname, filename))\n",
        "\n",
        "%pwd"
      ],
      "metadata": {
        "colab": {
          "base_uri": "https://localhost:8080/",
          "height": 108
        },
        "id": "fSa4ZcFLmaGw",
        "outputId": "36bea58f-0066-463d-9fa9-4d907a382cc0"
      },
      "execution_count": null,
      "outputs": [
        {
          "output_type": "stream",
          "name": "stdout",
          "text": [
            "/content/gdrive/My Drive/Kaggle/input/house-price/test.csv\n",
            "/content/gdrive/My Drive/Kaggle/input/house-price/train.csv\n",
            "/content/gdrive/My Drive/Kaggle/input/house-price/data_description.txt\n",
            "/content/gdrive/My Drive/Kaggle/input/house-price/sample_submission.csv\n"
          ]
        },
        {
          "output_type": "execute_result",
          "data": {
            "text/plain": [
              "'/content/gdrive/My Drive/Kaggle'"
            ],
            "application/vnd.google.colaboratory.intrinsic+json": {
              "type": "string"
            }
          },
          "metadata": {},
          "execution_count": 2
        }
      ]
    },
    {
      "cell_type": "code",
      "source": [
        "%cd input/house-price/\n",
        "\n",
        "data = pd.read_csv('train.csv')\n",
        "#data.info()"
      ],
      "metadata": {
        "id": "Fdc5hdj7myRH",
        "colab": {
          "base_uri": "https://localhost:8080/"
        },
        "outputId": "a8120012-99c2-4fb6-bd51-d6df569bfd92"
      },
      "execution_count": null,
      "outputs": [
        {
          "output_type": "stream",
          "name": "stdout",
          "text": [
            "/content/gdrive/My Drive/Kaggle/input/house-price\n"
          ]
        }
      ]
    },
    {
      "cell_type": "markdown",
      "source": [
        "전체 칼럼을 확인해보면서 특정 유형이 90%이상의 비율을 차지하는 칼럼이 있는지 확인한다.\n",
        "\n",
        "이것을 확인하는 이유는 반드시 필수적으로 필요한 부분이 무엇인지 그리고 굳이 고려할 필요가 없는 칼럼이 무엇이 있는지를 확인하기 위함이다.\n",
        "\n",
        "- Dtype이 object 인 경우만 우선 고려하겠다."
      ],
      "metadata": {
        "id": "00egaZ2mm4Nk"
      }
    },
    {
      "cell_type": "markdown",
      "source": [
        "값 전체에 대해 90프로를 차지하는 것을 확인한다."
      ],
      "metadata": {
        "id": "U56XYv6UuetX"
      }
    },
    {
      "cell_type": "code",
      "source": [
        "#DType이 object인 경우\n",
        "\n",
        "overallMaj = pd.DataFrame()\n",
        "for c in list(data.columns):\n",
        "  if data[c].dtype != 'object':\n",
        "    continue\n",
        "\n",
        "  #특정요소가 라인의 90프로 이상을 차지한다면 출력\n",
        "  for k in data[c].value_counts().values:\n",
        "    if k >= data[c].count() * 0.9:\n",
        "      new = {'title': c, 'val' : data[c].value_counts().keys()[0], 'cnt': k}\n",
        "      overallMaj = overallMaj.append(new, ignore_index = True)\n",
        "\n",
        "print(overallMaj)\n"
      ],
      "metadata": {
        "id": "pRpbbvjqrwLh",
        "colab": {
          "base_uri": "https://localhost:8080/"
        },
        "outputId": "45d3fcfd-b147-4701-e8f0-3742eda866f4"
      },
      "execution_count": null,
      "outputs": [
        {
          "output_type": "stream",
          "name": "stdout",
          "text": [
            "          title      val     cnt\n",
            "0        Street     Pave  1454.0\n",
            "1     Utilities   AllPub  1459.0\n",
            "2     LandSlope      Gtl  1382.0\n",
            "3    Condition2     Norm  1445.0\n",
            "4      RoofMatl  CompShg  1434.0\n",
            "5      BsmtCond       TA  1311.0\n",
            "6       Heating     GasA  1428.0\n",
            "7    CentralAir        Y  1365.0\n",
            "8    Electrical    SBrkr  1334.0\n",
            "9    Functional      Typ  1360.0\n",
            "10   GarageQual       TA  1311.0\n",
            "11   GarageCond       TA  1326.0\n",
            "12   PavedDrive        Y  1340.0\n",
            "13  MiscFeature     Shed    49.0\n"
          ]
        }
      ]
    },
    {
      "cell_type": "markdown",
      "source": [
        "상위 10프로에게도 같은 경향성이 보이는지 확인하도록 한다. "
      ],
      "metadata": {
        "id": "R_ys35G_rGO0"
      }
    },
    {
      "cell_type": "code",
      "source": [
        "sData = data.sort_values(by = ['SalePrice'],ascending=False)\n",
        "sData = sData.reset_index(drop=True)\n",
        "\n",
        "sData\n",
        "upper10p = sData.loc[0:data[c].count() * 0.1]\n",
        "\n",
        "upper10Maj = pd.DataFrame()\n",
        "for c in list(upper10p.columns):\n",
        "  if upper10p[c].dtype != 'object':\n",
        "    continue\n",
        "\n",
        "  #특정요소가 라인의 90프로 이상을 차지한다면 출력\n",
        "  for k in upper10p[c].value_counts().values:\n",
        "    if k >= upper10p[c].count() * 0.9:\n",
        "      new = {'title': c, 'val' : upper10p[c].value_counts().keys()[0], 'cnt': k}\n",
        "      upper10Maj = upper10Maj.append(new, ignore_index = True)\n",
        "\n",
        "print(upper10Maj)"
      ],
      "metadata": {
        "colab": {
          "base_uri": "https://localhost:8080/"
        },
        "id": "sXDo0NWqm3fG",
        "outputId": "205208c4-14d2-4281-f6ec-02c8fd7a1e6f"
      },
      "execution_count": 134,
      "outputs": [
        {
          "output_type": "stream",
          "name": "stdout",
          "text": [
            "           title      val    cnt\n",
            "0       MSZoning       RL  128.0\n",
            "1         Street     Pave  138.0\n",
            "2      Utilities   AllPub  138.0\n",
            "3      LandSlope      Gtl  128.0\n",
            "4     Condition1     Norm  129.0\n",
            "5     Condition2     Norm  136.0\n",
            "6       BldgType     1Fam  131.0\n",
            "7       RoofMatl  CompShg  134.0\n",
            "8      ExterCond       TA  129.0\n",
            "9       BsmtCond       TA  129.0\n",
            "10  BsmtFinType2      Unf  129.0\n",
            "11       Heating     GasA  137.0\n",
            "12    CentralAir        Y  138.0\n",
            "13    Electrical    SBrkr  138.0\n",
            "14    Functional      Typ  135.0\n",
            "15    GarageQual       TA  134.0\n",
            "16    GarageCond       TA  137.0\n",
            "17    PavedDrive        Y  138.0\n",
            "18        PoolQC       Ex    1.0\n"
          ]
        }
      ]
    },
    {
      "cell_type": "markdown",
      "source": [
        "데이터 전체에서 확인한 값고 sale price 상위 10프로에서 확인한 값이 서로 다른 경우가 있다. 이부분을 우선 살펴보겠다.\n"
      ],
      "metadata": {
        "id": "FLaEl8CBuuXn"
      }
    },
    {
      "cell_type": "code",
      "source": [
        "#내가 하고싶은건 Col을 두개 합친걸로 만들고\n",
        "# allval uppval 해서 값 확인하기 \n",
        "\n",
        "majDiff = pd.DataFrame()\n",
        "#overllMaj와 upper10Maj의 Col을 모아서 차이가 있는지 dataframe으로 만들기\n",
        "colSum = set(list(overallMaj['title'].values) + list(upper10Maj['title'].values))\n",
        "\n",
        "#print(len(colSum))\n",
        "\n",
        "#두 데이터프레임을 합친다.\n",
        "\n",
        "for c in colSum:\n",
        "  o = len(colSum)\n",
        "  u = len(colSum)\n",
        "  if c in overallMaj['title'].values:\n",
        "    o = overallMaj[(overallMaj['title'] == c)].index.tolist()[0]\n",
        "  if c in upper10Maj['title'].values:\n",
        "    u = upper10Maj[(upper10Maj['title'] == c)].index.tolist()[0]\n",
        "    \n",
        "  new = {'title': c, 'allVal' : overallMaj.iat[o, 1] if o != len(colSum) else np.nan, 'uppVal': upper10Maj.iat[u, 1] if u != len(colSum) else np.nan}\n",
        "  majDiff = majDiff.append(new, ignore_index = True)\n",
        "\n",
        "\n",
        "#print(majDiff)\n",
        "print(majDiff.dropna(axis=0))\n",
        "print()\n",
        "print(majDiff[['title','uppVal']].dropna())\n",
        "\n"
      ],
      "metadata": {
        "colab": {
          "base_uri": "https://localhost:8080/"
        },
        "id": "QMj6XD0WtPGt",
        "outputId": "bc686285-2de4-4b3e-95ff-afef085ec4ac"
      },
      "execution_count": 136,
      "outputs": [
        {
          "output_type": "stream",
          "name": "stdout",
          "text": [
            "         title   allVal   uppVal\n",
            "0    Utilities   AllPub   AllPub\n",
            "1   Functional      Typ      Typ\n",
            "6   GarageCond       TA       TA\n",
            "7   CentralAir        Y        Y\n",
            "8      Heating     GasA     GasA\n",
            "9   Electrical    SBrkr    SBrkr\n",
            "10   LandSlope      Gtl      Gtl\n",
            "11    BsmtCond       TA       TA\n",
            "12  PavedDrive        Y        Y\n",
            "13  Condition2     Norm     Norm\n",
            "14    RoofMatl  CompShg  CompShg\n",
            "16  GarageQual       TA       TA\n",
            "19      Street     Pave     Pave\n",
            "\n",
            "           title   uppVal\n",
            "0      Utilities   AllPub\n",
            "1     Functional      Typ\n",
            "2       MSZoning       RL\n",
            "3         PoolQC       Ex\n",
            "4       BldgType     1Fam\n",
            "5   BsmtFinType2      Unf\n",
            "6     GarageCond       TA\n",
            "7     CentralAir        Y\n",
            "8        Heating     GasA\n",
            "9     Electrical    SBrkr\n",
            "10     LandSlope      Gtl\n",
            "11      BsmtCond       TA\n",
            "12    PavedDrive        Y\n",
            "13    Condition2     Norm\n",
            "14      RoofMatl  CompShg\n",
            "15    Condition1     Norm\n",
            "16    GarageQual       TA\n",
            "17     ExterCond       TA\n",
            "19        Street     Pave\n"
          ]
        }
      ]
    },
    {
      "cell_type": "markdown",
      "source": [
        "상위 10프로와 전체에서 공통적으로 높게 나타나는 선호도\n",
        "\n",
        "---\n",
        "\n",
        "Utilities(접근가능한 public utility - 전기, 가스, 물 등) : AllPub\n",
        "\n",
        "Functional(집 기능): Typ\n",
        "\n",
        "GarageCond: TA(Typical,Average)\n",
        "\n",
        "CentralAir(중앙냉방): Y\n",
        "\n",
        "Heating(난방종류): GasA\n",
        "\n",
        "Electrical(전기): SBrkr(standard)\n",
        "\n",
        "LandSlope(기울기):Gtl(gentle slope)\n",
        "\n",
        "BsmtCond: TA\n",
        "\n",
        "PavedDrive: Y\n",
        "\n",
        "Condition2: Norm(normal)\n",
        "\n",
        "RoofMatl(지붕재료): standard Shingle\n",
        "\n",
        "GarageQual: TA\n",
        "\n",
        "Street(건물에 접근하는 길 종류) : pave\n",
        "\n",
        "\n",
        "\n"
      ],
      "metadata": {
        "id": "Hsb0_c200dji"
      }
    },
    {
      "cell_type": "markdown",
      "source": [
        "상위 10프로에만 나타나는 높은 선호도\n",
        "\n",
        "\n",
        "---\n",
        "\n",
        "*PoolQC는 데이터값이 1개이므로 제외하도록 한다\n",
        "\n",
        "MSZoning: RL\n",
        "\n",
        "BldgType: 1Fam\n",
        "\n",
        "BsmtFinType2: Unf\n",
        "\n",
        "Condition1: Norm\n",
        "\n",
        "ExterCond: TA\n",
        "\n",
        "\n",
        "가격이 높을수록 선호도가 올라가는지 알아보자\n"
      ],
      "metadata": {
        "id": "O89xVJgL5UQS"
      }
    },
    {
      "cell_type": "markdown",
      "source": [
        "# 경향성 파악"
      ],
      "metadata": {
        "id": "d_1r7BmsOKVc"
      }
    },
    {
      "cell_type": "markdown",
      "source": [
        "## 판매 유형에 따른 경향성\n"
      ],
      "metadata": {
        "id": "YidYQkX86bov"
      }
    },
    {
      "cell_type": "code",
      "source": [
        "MSZoningD = sData[['MSZoning','SalePrice']]\n",
        "\n",
        "\n",
        "g = sns.JointGrid(x=sData['MSZoning'], \n",
        "                  y=sData['SalePrice'])\n",
        "ax = g.plot(sns.swarmplot, sns.histplot)"
      ],
      "metadata": {
        "colab": {
          "base_uri": "https://localhost:8080/",
          "height": 514
        },
        "id": "MJzWdjIU63sw",
        "outputId": "f33f70ab-be73-494c-f63f-09abb9acfc8a"
      },
      "execution_count": 147,
      "outputs": [
        {
          "output_type": "stream",
          "name": "stderr",
          "text": [
            "/usr/local/lib/python3.7/dist-packages/seaborn/categorical.py:1296: UserWarning: 76.4% of the points cannot be placed; you may want to decrease the size of the markers or use stripplot.\n",
            "  warnings.warn(msg, UserWarning)\n",
            "/usr/local/lib/python3.7/dist-packages/seaborn/categorical.py:1296: UserWarning: 56.4% of the points cannot be placed; you may want to decrease the size of the markers or use stripplot.\n",
            "  warnings.warn(msg, UserWarning)\n"
          ]
        },
        {
          "output_type": "display_data",
          "data": {
            "text/plain": [
              "<Figure size 432x432 with 3 Axes>"
            ],
            "image/png": "[encoded data removed]"
          },
          "metadata": {
            "needs_background": "light"
          }
        }
      ]
    },
    {
      "cell_type": "markdown",
      "source": [
        "RL > RM > FV > RH > C 순으로 높은 가격이 분포되어 있지만 \n",
        "\n",
        "전반적으로 RL 데이터양이 많아서 이러한 분포가 나타난 것일 수 있다.\n",
        "\n",
        "오히려 최적 가격대를 기준으로 본다면 \n",
        "FV > RH > RL > RM > C 으로 봐야할 수 있다. \n",
        "\n",
        "정확한 비례관계가 어렵기 때문에 다른 수치와 함께 파악할 필요가 있어보인다."
      ],
      "metadata": {
        "id": "LiFeO3RuLewh"
      }
    },
    {
      "cell_type": "markdown",
      "source": [
        "## 거주지 유형에 따른 경향성"
      ],
      "metadata": {
        "id": "6Ii6RCjaMpQ6"
      }
    },
    {
      "cell_type": "code",
      "source": [
        "BldgTypeD = sData[['BldgType','SalePrice']]\n",
        "\n",
        "\n",
        "g = sns.JointGrid(x=sData['BldgType'], \n",
        "                  y=sData['SalePrice'])\n",
        "ax = g.plot(sns.swarmplot, sns.histplot)"
      ],
      "metadata": {
        "colab": {
          "base_uri": "https://localhost:8080/",
          "height": 550
        },
        "id": "qvj6YZ_vNrJ7",
        "outputId": "a353079d-c798-48d2-ce41-1553f0d9c709"
      },
      "execution_count": 148,
      "outputs": [
        {
          "output_type": "stream",
          "name": "stderr",
          "text": [
            "/usr/local/lib/python3.7/dist-packages/seaborn/categorical.py:1296: UserWarning: 77.4% of the points cannot be placed; you may want to decrease the size of the markers or use stripplot.\n",
            "  warnings.warn(msg, UserWarning)\n",
            "/usr/local/lib/python3.7/dist-packages/seaborn/categorical.py:1296: UserWarning: 14.0% of the points cannot be placed; you may want to decrease the size of the markers or use stripplot.\n",
            "  warnings.warn(msg, UserWarning)\n",
            "/usr/local/lib/python3.7/dist-packages/seaborn/categorical.py:1296: UserWarning: 17.3% of the points cannot be placed; you may want to decrease the size of the markers or use stripplot.\n",
            "  warnings.warn(msg, UserWarning)\n"
          ]
        },
        {
          "output_type": "display_data",
          "data": {
            "text/plain": [
              "<Figure size 432x432 with 3 Axes>"
            ],
            "image/png": "[encoded data removed]"
          },
          "metadata": {
            "needs_background": "light"
          }
        }
      ]
    },
    {
      "cell_type": "markdown",
      "source": [
        ""
      ],
      "metadata": {
        "id": "gP_qqU1_OXmE"
      }
    },
    {
      "cell_type": "markdown",
      "source": [
        ""
      ],
      "metadata": {
        "id": "PD2LfIn7N88E"
      }
    },
    {
      "cell_type": "code",
      "source": [
        "\"\"\"\n",
        "sData = data.sort_values(by = ['SalePrice'],ascending=False)\n",
        "sData = sData.reset_index(drop=True)\n",
        "\n",
        "sData\n",
        "upper10p = sData.loc[0:data[c].count() * 0.1]\n",
        "\"\"\"\n",
        "'''\n",
        "#val 값 접근 테스트 \n",
        "\n",
        "print(upper10Maj[(upper10Maj['title']=='Utilities')].index.tolist()[0])\n",
        "print(upper10Maj.iat[2,1])\n",
        "'''"
      ],
      "metadata": {
        "colab": {
          "base_uri": "https://localhost:8080/"
        },
        "id": "0C_nVkNti8qN",
        "outputId": "263e5559-8827-4cd4-a485-2df1e5acb03e"
      },
      "execution_count": 135,
      "outputs": [
        {
          "output_type": "stream",
          "name": "stdout",
          "text": [
            "2\n",
            "AllPub\n"
          ]
        }
      ]
    }
  ]
}